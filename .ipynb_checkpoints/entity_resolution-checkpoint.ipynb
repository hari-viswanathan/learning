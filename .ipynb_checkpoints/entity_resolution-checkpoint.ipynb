{
 "cells": [
  {
   "cell_type": "code",
   "execution_count": 1,
   "id": "e8c1e057",
   "metadata": {},
   "outputs": [],
   "source": [
    "import pandas as pd\n",
    "import numpy as np\n",
    "import pickle"
   ]
  },
  {
   "cell_type": "code",
   "execution_count": 2,
   "id": "fcc11b63",
   "metadata": {},
   "outputs": [],
   "source": [
    "google_df = pd.read_csv('./datasets/Amazon-GoogleProducts/GoogleProducts.csv', encoding='unicode_escape')"
   ]
  },
  {
   "cell_type": "code",
   "execution_count": 3,
   "id": "eba811f9",
   "metadata": {},
   "outputs": [],
   "source": [
    "google_df.columns = ['source_id', 'name', 'description', 'manufacturer', 'price']"
   ]
  },
  {
   "cell_type": "code",
   "execution_count": 4,
   "id": "cf6f7c29",
   "metadata": {},
   "outputs": [
    {
     "data": {
      "text/html": [
       "<div>\n",
       "<style scoped>\n",
       "    .dataframe tbody tr th:only-of-type {\n",
       "        vertical-align: middle;\n",
       "    }\n",
       "\n",
       "    .dataframe tbody tr th {\n",
       "        vertical-align: top;\n",
       "    }\n",
       "\n",
       "    .dataframe thead th {\n",
       "        text-align: right;\n",
       "    }\n",
       "</style>\n",
       "<table border=\"1\" class=\"dataframe\">\n",
       "  <thead>\n",
       "    <tr style=\"text-align: right;\">\n",
       "      <th></th>\n",
       "      <th>source_id</th>\n",
       "      <th>name</th>\n",
       "      <th>description</th>\n",
       "      <th>manufacturer</th>\n",
       "      <th>price</th>\n",
       "    </tr>\n",
       "  </thead>\n",
       "  <tbody>\n",
       "    <tr>\n",
       "      <th>0</th>\n",
       "      <td>http://www.google.com/base/feeds/snippets/1112...</td>\n",
       "      <td>learning quickbooks 2007</td>\n",
       "      <td>learning quickbooks 2007</td>\n",
       "      <td>intuit</td>\n",
       "      <td>38.99</td>\n",
       "    </tr>\n",
       "    <tr>\n",
       "      <th>1</th>\n",
       "      <td>http://www.google.com/base/feeds/snippets/1153...</td>\n",
       "      <td>superstart! fun with reading &amp; writing!</td>\n",
       "      <td>fun with reading &amp; writing! is designed to hel...</td>\n",
       "      <td>NaN</td>\n",
       "      <td>8.49</td>\n",
       "    </tr>\n",
       "    <tr>\n",
       "      <th>2</th>\n",
       "      <td>http://www.google.com/base/feeds/snippets/1134...</td>\n",
       "      <td>qb pos 6.0 basic software</td>\n",
       "      <td>qb pos 6.0 basic retail mngmt software. for re...</td>\n",
       "      <td>intuit</td>\n",
       "      <td>637.99</td>\n",
       "    </tr>\n",
       "    <tr>\n",
       "      <th>3</th>\n",
       "      <td>http://www.google.com/base/feeds/snippets/1204...</td>\n",
       "      <td>math missions: the amazing arcade adventure (g...</td>\n",
       "      <td>save spectacle city by disrupting randall unde...</td>\n",
       "      <td>NaN</td>\n",
       "      <td>12.95</td>\n",
       "    </tr>\n",
       "    <tr>\n",
       "      <th>4</th>\n",
       "      <td>http://www.google.com/base/feeds/snippets/1224...</td>\n",
       "      <td>production prem cs3 mac upgrad</td>\n",
       "      <td>adobe cs3 production premium mac upgrade from ...</td>\n",
       "      <td>adobe software</td>\n",
       "      <td>805.99</td>\n",
       "    </tr>\n",
       "  </tbody>\n",
       "</table>\n",
       "</div>"
      ],
      "text/plain": [
       "                                           source_id  \\\n",
       "0  http://www.google.com/base/feeds/snippets/1112...   \n",
       "1  http://www.google.com/base/feeds/snippets/1153...   \n",
       "2  http://www.google.com/base/feeds/snippets/1134...   \n",
       "3  http://www.google.com/base/feeds/snippets/1204...   \n",
       "4  http://www.google.com/base/feeds/snippets/1224...   \n",
       "\n",
       "                                                name  \\\n",
       "0                           learning quickbooks 2007   \n",
       "1            superstart! fun with reading & writing!   \n",
       "2                          qb pos 6.0 basic software   \n",
       "3  math missions: the amazing arcade adventure (g...   \n",
       "4                     production prem cs3 mac upgrad   \n",
       "\n",
       "                                         description    manufacturer   price  \n",
       "0                           learning quickbooks 2007          intuit   38.99  \n",
       "1  fun with reading & writing! is designed to hel...             NaN    8.49  \n",
       "2  qb pos 6.0 basic retail mngmt software. for re...          intuit  637.99  \n",
       "3  save spectacle city by disrupting randall unde...             NaN   12.95  \n",
       "4  adobe cs3 production premium mac upgrade from ...  adobe software  805.99  "
      ]
     },
     "execution_count": 4,
     "metadata": {},
     "output_type": "execute_result"
    }
   ],
   "source": [
    "google_df.head()"
   ]
  },
  {
   "cell_type": "code",
   "execution_count": 5,
   "id": "457bea94",
   "metadata": {},
   "outputs": [
    {
     "data": {
      "text/plain": [
       "source_id          0\n",
       "name               0\n",
       "description      191\n",
       "manufacturer    2994\n",
       "price              0\n",
       "dtype: int64"
      ]
     },
     "execution_count": 5,
     "metadata": {},
     "output_type": "execute_result"
    }
   ],
   "source": [
    "google_df.isnull().sum(axis=0)"
   ]
  },
  {
   "cell_type": "code",
   "execution_count": 6,
   "id": "3e3669e5",
   "metadata": {},
   "outputs": [],
   "source": [
    "amazon_df = pd.read_csv('./datasets/Amazon-GoogleProducts/Amazon.csv', encoding='unicode_escape')"
   ]
  },
  {
   "cell_type": "code",
   "execution_count": 7,
   "id": "960214cd",
   "metadata": {},
   "outputs": [],
   "source": [
    "amazon_df.columns = ['source_id', 'name', 'description', 'manufacturer', 'price']"
   ]
  },
  {
   "cell_type": "code",
   "execution_count": 8,
   "id": "f1f7d7a4",
   "metadata": {},
   "outputs": [
    {
     "data": {
      "text/html": [
       "<div>\n",
       "<style scoped>\n",
       "    .dataframe tbody tr th:only-of-type {\n",
       "        vertical-align: middle;\n",
       "    }\n",
       "\n",
       "    .dataframe tbody tr th {\n",
       "        vertical-align: top;\n",
       "    }\n",
       "\n",
       "    .dataframe thead th {\n",
       "        text-align: right;\n",
       "    }\n",
       "</style>\n",
       "<table border=\"1\" class=\"dataframe\">\n",
       "  <thead>\n",
       "    <tr style=\"text-align: right;\">\n",
       "      <th></th>\n",
       "      <th>source_id</th>\n",
       "      <th>name</th>\n",
       "      <th>description</th>\n",
       "      <th>manufacturer</th>\n",
       "      <th>price</th>\n",
       "    </tr>\n",
       "  </thead>\n",
       "  <tbody>\n",
       "    <tr>\n",
       "      <th>0</th>\n",
       "      <td>b000jz4hqo</td>\n",
       "      <td>clickart 950 000 - premier image pack (dvd-rom)</td>\n",
       "      <td>NaN</td>\n",
       "      <td>broderbund</td>\n",
       "      <td>0.00</td>\n",
       "    </tr>\n",
       "    <tr>\n",
       "      <th>1</th>\n",
       "      <td>b0006zf55o</td>\n",
       "      <td>ca international - arcserve lap/desktop oem 30pk</td>\n",
       "      <td>oem arcserve backup v11.1 win 30u for laptops ...</td>\n",
       "      <td>computer associates</td>\n",
       "      <td>0.00</td>\n",
       "    </tr>\n",
       "    <tr>\n",
       "      <th>2</th>\n",
       "      <td>b00004tkvy</td>\n",
       "      <td>noah's ark activity center (jewel case ages 3-8)</td>\n",
       "      <td>NaN</td>\n",
       "      <td>victory multimedia</td>\n",
       "      <td>0.00</td>\n",
       "    </tr>\n",
       "    <tr>\n",
       "      <th>3</th>\n",
       "      <td>b000g80lqo</td>\n",
       "      <td>peachtree by sage premium accounting for nonpr...</td>\n",
       "      <td>peachtree premium accounting for nonprofits 20...</td>\n",
       "      <td>sage software</td>\n",
       "      <td>599.99</td>\n",
       "    </tr>\n",
       "    <tr>\n",
       "      <th>4</th>\n",
       "      <td>b0006se5bq</td>\n",
       "      <td>singing coach unlimited</td>\n",
       "      <td>singing coach unlimited - electronic learning ...</td>\n",
       "      <td>carry-a-tune technologies</td>\n",
       "      <td>99.99</td>\n",
       "    </tr>\n",
       "  </tbody>\n",
       "</table>\n",
       "</div>"
      ],
      "text/plain": [
       "    source_id                                               name  \\\n",
       "0  b000jz4hqo    clickart 950 000 - premier image pack (dvd-rom)   \n",
       "1  b0006zf55o   ca international - arcserve lap/desktop oem 30pk   \n",
       "2  b00004tkvy   noah's ark activity center (jewel case ages 3-8)   \n",
       "3  b000g80lqo  peachtree by sage premium accounting for nonpr...   \n",
       "4  b0006se5bq                            singing coach unlimited   \n",
       "\n",
       "                                         description  \\\n",
       "0                                                NaN   \n",
       "1  oem arcserve backup v11.1 win 30u for laptops ...   \n",
       "2                                                NaN   \n",
       "3  peachtree premium accounting for nonprofits 20...   \n",
       "4  singing coach unlimited - electronic learning ...   \n",
       "\n",
       "                manufacturer   price  \n",
       "0                 broderbund    0.00  \n",
       "1        computer associates    0.00  \n",
       "2         victory multimedia    0.00  \n",
       "3              sage software  599.99  \n",
       "4  carry-a-tune technologies   99.99  "
      ]
     },
     "execution_count": 8,
     "metadata": {},
     "output_type": "execute_result"
    }
   ],
   "source": [
    "amazon_df.head()"
   ]
  },
  {
   "cell_type": "code",
   "execution_count": 9,
   "id": "80a9152c",
   "metadata": {},
   "outputs": [
    {
     "data": {
      "text/plain": [
       "source_id         0\n",
       "name              0\n",
       "description     115\n",
       "manufacturer      0\n",
       "price             0\n",
       "dtype: int64"
      ]
     },
     "execution_count": 9,
     "metadata": {},
     "output_type": "execute_result"
    }
   ],
   "source": [
    "amazon_df.isnull().sum(axis=0)"
   ]
  },
  {
   "cell_type": "code",
   "execution_count": 10,
   "id": "3f5f9c02",
   "metadata": {},
   "outputs": [],
   "source": [
    "# Replace all NaN\n",
    "string_cols = ['name', 'description', 'manufacturer']\n",
    "for col in string_cols:\n",
    "    google_df[col].fillna('Unknown', inplace=True)\n",
    "    amazon_df[col].fillna('Unknown', inplace=True)\n",
    "\n",
    "#     google_df[col] = [val and val.lower().strip() for val in list(google_df[col])]\n",
    "#     amazon_df[col] = [val and val.lower().strip() for val in list(amazon_df[col])]"
   ]
  },
  {
   "cell_type": "code",
   "execution_count": 11,
   "id": "b20a25eb",
   "metadata": {},
   "outputs": [
    {
     "data": {
      "text/plain": [
       "source_id       0\n",
       "name            0\n",
       "description     0\n",
       "manufacturer    0\n",
       "price           0\n",
       "dtype: int64"
      ]
     },
     "execution_count": 11,
     "metadata": {},
     "output_type": "execute_result"
    }
   ],
   "source": [
    "google_df.isnull().sum(axis=0)    "
   ]
  },
  {
   "cell_type": "code",
   "execution_count": 12,
   "id": "fffda94b",
   "metadata": {},
   "outputs": [
    {
     "data": {
      "text/plain": [
       "source_id       0\n",
       "name            0\n",
       "description     0\n",
       "manufacturer    0\n",
       "price           0\n",
       "dtype: int64"
      ]
     },
     "execution_count": 12,
     "metadata": {},
     "output_type": "execute_result"
    }
   ],
   "source": [
    "amazon_df.isnull().sum(axis=0)"
   ]
  },
  {
   "cell_type": "code",
   "execution_count": 13,
   "id": "e49f8dc0",
   "metadata": {},
   "outputs": [],
   "source": [
    "# Convert price column to float\n",
    "import re\n",
    "amazon_df['price'].astype('float', errors='ignore')\n",
    "google_df['price'] = [ float(re.sub('\\D', '', val)) for val in list(google_df['price'])]"
   ]
  },
  {
   "cell_type": "code",
   "execution_count": 14,
   "id": "9629a1c6",
   "metadata": {},
   "outputs": [],
   "source": [
    "# Convert all text to lower\n",
    "def to_lower(row):\n",
    "    for col in string_cols:\n",
    "        row[col] = row[col] and row[col].lower().strip() \n",
    "        row[col] = re.sub('\\W', ' ', row[col])\n",
    "        row[col] = re.sub('\\s{2,}', ' ', row[col])\n",
    "    return row\n",
    "\n",
    "google_df = google_df.apply(to_lower, axis='columns')\n",
    "amazon_df = amazon_df.apply(to_lower, axis='columns')"
   ]
  },
  {
   "cell_type": "code",
   "execution_count": 15,
   "id": "df87cc2e",
   "metadata": {},
   "outputs": [
    {
     "data": {
      "text/html": [
       "<div>\n",
       "<style scoped>\n",
       "    .dataframe tbody tr th:only-of-type {\n",
       "        vertical-align: middle;\n",
       "    }\n",
       "\n",
       "    .dataframe tbody tr th {\n",
       "        vertical-align: top;\n",
       "    }\n",
       "\n",
       "    .dataframe thead th {\n",
       "        text-align: right;\n",
       "    }\n",
       "</style>\n",
       "<table border=\"1\" class=\"dataframe\">\n",
       "  <thead>\n",
       "    <tr style=\"text-align: right;\">\n",
       "      <th></th>\n",
       "      <th>source_id</th>\n",
       "      <th>name</th>\n",
       "      <th>description</th>\n",
       "      <th>manufacturer</th>\n",
       "      <th>price</th>\n",
       "    </tr>\n",
       "  </thead>\n",
       "  <tbody>\n",
       "    <tr>\n",
       "      <th>0</th>\n",
       "      <td>http://www.google.com/base/feeds/snippets/1112...</td>\n",
       "      <td>learning quickbooks 2007</td>\n",
       "      <td>learning quickbooks 2007</td>\n",
       "      <td>intuit</td>\n",
       "      <td>3899.0</td>\n",
       "    </tr>\n",
       "    <tr>\n",
       "      <th>1</th>\n",
       "      <td>http://www.google.com/base/feeds/snippets/1153...</td>\n",
       "      <td>superstart fun with reading writing</td>\n",
       "      <td>fun with reading writing is designed to help k...</td>\n",
       "      <td>unknown</td>\n",
       "      <td>849.0</td>\n",
       "    </tr>\n",
       "    <tr>\n",
       "      <th>2</th>\n",
       "      <td>http://www.google.com/base/feeds/snippets/1134...</td>\n",
       "      <td>qb pos 6 0 basic software</td>\n",
       "      <td>qb pos 6 0 basic retail mngmt software for ret...</td>\n",
       "      <td>intuit</td>\n",
       "      <td>63799.0</td>\n",
       "    </tr>\n",
       "    <tr>\n",
       "      <th>3</th>\n",
       "      <td>http://www.google.com/base/feeds/snippets/1204...</td>\n",
       "      <td>math missions the amazing arcade adventure gra...</td>\n",
       "      <td>save spectacle city by disrupting randall unde...</td>\n",
       "      <td>unknown</td>\n",
       "      <td>1295.0</td>\n",
       "    </tr>\n",
       "    <tr>\n",
       "      <th>4</th>\n",
       "      <td>http://www.google.com/base/feeds/snippets/1224...</td>\n",
       "      <td>production prem cs3 mac upgrad</td>\n",
       "      <td>adobe cs3 production premium mac upgrade from ...</td>\n",
       "      <td>adobe software</td>\n",
       "      <td>80599.0</td>\n",
       "    </tr>\n",
       "  </tbody>\n",
       "</table>\n",
       "</div>"
      ],
      "text/plain": [
       "                                           source_id  \\\n",
       "0  http://www.google.com/base/feeds/snippets/1112...   \n",
       "1  http://www.google.com/base/feeds/snippets/1153...   \n",
       "2  http://www.google.com/base/feeds/snippets/1134...   \n",
       "3  http://www.google.com/base/feeds/snippets/1204...   \n",
       "4  http://www.google.com/base/feeds/snippets/1224...   \n",
       "\n",
       "                                                name  \\\n",
       "0                           learning quickbooks 2007   \n",
       "1               superstart fun with reading writing    \n",
       "2                          qb pos 6 0 basic software   \n",
       "3  math missions the amazing arcade adventure gra...   \n",
       "4                     production prem cs3 mac upgrad   \n",
       "\n",
       "                                         description    manufacturer    price  \n",
       "0                           learning quickbooks 2007          intuit   3899.0  \n",
       "1  fun with reading writing is designed to help k...         unknown    849.0  \n",
       "2  qb pos 6 0 basic retail mngmt software for ret...          intuit  63799.0  \n",
       "3  save spectacle city by disrupting randall unde...         unknown   1295.0  \n",
       "4  adobe cs3 production premium mac upgrade from ...  adobe software  80599.0  "
      ]
     },
     "execution_count": 15,
     "metadata": {},
     "output_type": "execute_result"
    }
   ],
   "source": [
    "google_df.head()"
   ]
  },
  {
   "cell_type": "code",
   "execution_count": 16,
   "id": "feae54c4",
   "metadata": {},
   "outputs": [
    {
     "data": {
      "text/html": [
       "<div>\n",
       "<style scoped>\n",
       "    .dataframe tbody tr th:only-of-type {\n",
       "        vertical-align: middle;\n",
       "    }\n",
       "\n",
       "    .dataframe tbody tr th {\n",
       "        vertical-align: top;\n",
       "    }\n",
       "\n",
       "    .dataframe thead th {\n",
       "        text-align: right;\n",
       "    }\n",
       "</style>\n",
       "<table border=\"1\" class=\"dataframe\">\n",
       "  <thead>\n",
       "    <tr style=\"text-align: right;\">\n",
       "      <th></th>\n",
       "      <th>source_id</th>\n",
       "      <th>name</th>\n",
       "      <th>description</th>\n",
       "      <th>manufacturer</th>\n",
       "      <th>price</th>\n",
       "    </tr>\n",
       "  </thead>\n",
       "  <tbody>\n",
       "    <tr>\n",
       "      <th>0</th>\n",
       "      <td>b000jz4hqo</td>\n",
       "      <td>clickart 950 000 premier image pack dvd rom</td>\n",
       "      <td>unknown</td>\n",
       "      <td>broderbund</td>\n",
       "      <td>0.00</td>\n",
       "    </tr>\n",
       "    <tr>\n",
       "      <th>1</th>\n",
       "      <td>b0006zf55o</td>\n",
       "      <td>ca international arcserve lap desktop oem 30pk</td>\n",
       "      <td>oem arcserve backup v11 1 win 30u for laptops ...</td>\n",
       "      <td>computer associates</td>\n",
       "      <td>0.00</td>\n",
       "    </tr>\n",
       "    <tr>\n",
       "      <th>2</th>\n",
       "      <td>b00004tkvy</td>\n",
       "      <td>noah s ark activity center jewel case ages 3 8</td>\n",
       "      <td>unknown</td>\n",
       "      <td>victory multimedia</td>\n",
       "      <td>0.00</td>\n",
       "    </tr>\n",
       "    <tr>\n",
       "      <th>3</th>\n",
       "      <td>b000g80lqo</td>\n",
       "      <td>peachtree by sage premium accounting for nonpr...</td>\n",
       "      <td>peachtree premium accounting for nonprofits 20...</td>\n",
       "      <td>sage software</td>\n",
       "      <td>599.99</td>\n",
       "    </tr>\n",
       "    <tr>\n",
       "      <th>4</th>\n",
       "      <td>b0006se5bq</td>\n",
       "      <td>singing coach unlimited</td>\n",
       "      <td>singing coach unlimited electronic learning pr...</td>\n",
       "      <td>carry a tune technologies</td>\n",
       "      <td>99.99</td>\n",
       "    </tr>\n",
       "  </tbody>\n",
       "</table>\n",
       "</div>"
      ],
      "text/plain": [
       "    source_id                                               name  \\\n",
       "0  b000jz4hqo       clickart 950 000 premier image pack dvd rom    \n",
       "1  b0006zf55o     ca international arcserve lap desktop oem 30pk   \n",
       "2  b00004tkvy    noah s ark activity center jewel case ages 3 8    \n",
       "3  b000g80lqo  peachtree by sage premium accounting for nonpr...   \n",
       "4  b0006se5bq                            singing coach unlimited   \n",
       "\n",
       "                                         description  \\\n",
       "0                                            unknown   \n",
       "1  oem arcserve backup v11 1 win 30u for laptops ...   \n",
       "2                                            unknown   \n",
       "3  peachtree premium accounting for nonprofits 20...   \n",
       "4  singing coach unlimited electronic learning pr...   \n",
       "\n",
       "                manufacturer   price  \n",
       "0                 broderbund    0.00  \n",
       "1        computer associates    0.00  \n",
       "2         victory multimedia    0.00  \n",
       "3              sage software  599.99  \n",
       "4  carry a tune technologies   99.99  "
      ]
     },
     "execution_count": 16,
     "metadata": {},
     "output_type": "execute_result"
    }
   ],
   "source": [
    "amazon_df.head()"
   ]
  },
  {
   "cell_type": "code",
   "execution_count": 17,
   "id": "38b72114",
   "metadata": {},
   "outputs": [],
   "source": [
    "google_df['source'] = 'google'"
   ]
  },
  {
   "cell_type": "code",
   "execution_count": 18,
   "id": "ec5ada2d",
   "metadata": {},
   "outputs": [],
   "source": [
    "amazon_df['source'] = 'amazon'"
   ]
  },
  {
   "cell_type": "code",
   "execution_count": 19,
   "id": "d9b63b15",
   "metadata": {},
   "outputs": [
    {
     "data": {
      "text/html": [
       "<div>\n",
       "<style scoped>\n",
       "    .dataframe tbody tr th:only-of-type {\n",
       "        vertical-align: middle;\n",
       "    }\n",
       "\n",
       "    .dataframe tbody tr th {\n",
       "        vertical-align: top;\n",
       "    }\n",
       "\n",
       "    .dataframe thead th {\n",
       "        text-align: right;\n",
       "    }\n",
       "</style>\n",
       "<table border=\"1\" class=\"dataframe\">\n",
       "  <thead>\n",
       "    <tr style=\"text-align: right;\">\n",
       "      <th></th>\n",
       "      <th>source_id</th>\n",
       "      <th>name</th>\n",
       "      <th>description</th>\n",
       "      <th>manufacturer</th>\n",
       "      <th>price</th>\n",
       "      <th>source</th>\n",
       "    </tr>\n",
       "  </thead>\n",
       "  <tbody>\n",
       "    <tr>\n",
       "      <th>0</th>\n",
       "      <td>http://www.google.com/base/feeds/snippets/1112...</td>\n",
       "      <td>learning quickbooks 2007</td>\n",
       "      <td>learning quickbooks 2007</td>\n",
       "      <td>intuit</td>\n",
       "      <td>3899.0</td>\n",
       "      <td>google</td>\n",
       "    </tr>\n",
       "    <tr>\n",
       "      <th>1</th>\n",
       "      <td>http://www.google.com/base/feeds/snippets/1153...</td>\n",
       "      <td>superstart fun with reading writing</td>\n",
       "      <td>fun with reading writing is designed to help k...</td>\n",
       "      <td>unknown</td>\n",
       "      <td>849.0</td>\n",
       "      <td>google</td>\n",
       "    </tr>\n",
       "    <tr>\n",
       "      <th>2</th>\n",
       "      <td>http://www.google.com/base/feeds/snippets/1134...</td>\n",
       "      <td>qb pos 6 0 basic software</td>\n",
       "      <td>qb pos 6 0 basic retail mngmt software for ret...</td>\n",
       "      <td>intuit</td>\n",
       "      <td>63799.0</td>\n",
       "      <td>google</td>\n",
       "    </tr>\n",
       "    <tr>\n",
       "      <th>3</th>\n",
       "      <td>http://www.google.com/base/feeds/snippets/1204...</td>\n",
       "      <td>math missions the amazing arcade adventure gra...</td>\n",
       "      <td>save spectacle city by disrupting randall unde...</td>\n",
       "      <td>unknown</td>\n",
       "      <td>1295.0</td>\n",
       "      <td>google</td>\n",
       "    </tr>\n",
       "    <tr>\n",
       "      <th>4</th>\n",
       "      <td>http://www.google.com/base/feeds/snippets/1224...</td>\n",
       "      <td>production prem cs3 mac upgrad</td>\n",
       "      <td>adobe cs3 production premium mac upgrade from ...</td>\n",
       "      <td>adobe software</td>\n",
       "      <td>80599.0</td>\n",
       "      <td>google</td>\n",
       "    </tr>\n",
       "  </tbody>\n",
       "</table>\n",
       "</div>"
      ],
      "text/plain": [
       "                                           source_id  \\\n",
       "0  http://www.google.com/base/feeds/snippets/1112...   \n",
       "1  http://www.google.com/base/feeds/snippets/1153...   \n",
       "2  http://www.google.com/base/feeds/snippets/1134...   \n",
       "3  http://www.google.com/base/feeds/snippets/1204...   \n",
       "4  http://www.google.com/base/feeds/snippets/1224...   \n",
       "\n",
       "                                                name  \\\n",
       "0                           learning quickbooks 2007   \n",
       "1               superstart fun with reading writing    \n",
       "2                          qb pos 6 0 basic software   \n",
       "3  math missions the amazing arcade adventure gra...   \n",
       "4                     production prem cs3 mac upgrad   \n",
       "\n",
       "                                         description    manufacturer    price  \\\n",
       "0                           learning quickbooks 2007          intuit   3899.0   \n",
       "1  fun with reading writing is designed to help k...         unknown    849.0   \n",
       "2  qb pos 6 0 basic retail mngmt software for ret...          intuit  63799.0   \n",
       "3  save spectacle city by disrupting randall unde...         unknown   1295.0   \n",
       "4  adobe cs3 production premium mac upgrade from ...  adobe software  80599.0   \n",
       "\n",
       "   source  \n",
       "0  google  \n",
       "1  google  \n",
       "2  google  \n",
       "3  google  \n",
       "4  google  "
      ]
     },
     "execution_count": 19,
     "metadata": {},
     "output_type": "execute_result"
    }
   ],
   "source": [
    "google_df.head()"
   ]
  },
  {
   "cell_type": "code",
   "execution_count": 20,
   "id": "bedfb380",
   "metadata": {},
   "outputs": [
    {
     "data": {
      "text/html": [
       "<div>\n",
       "<style scoped>\n",
       "    .dataframe tbody tr th:only-of-type {\n",
       "        vertical-align: middle;\n",
       "    }\n",
       "\n",
       "    .dataframe tbody tr th {\n",
       "        vertical-align: top;\n",
       "    }\n",
       "\n",
       "    .dataframe thead th {\n",
       "        text-align: right;\n",
       "    }\n",
       "</style>\n",
       "<table border=\"1\" class=\"dataframe\">\n",
       "  <thead>\n",
       "    <tr style=\"text-align: right;\">\n",
       "      <th></th>\n",
       "      <th>source_id</th>\n",
       "      <th>name</th>\n",
       "      <th>description</th>\n",
       "      <th>manufacturer</th>\n",
       "      <th>price</th>\n",
       "      <th>source</th>\n",
       "    </tr>\n",
       "  </thead>\n",
       "  <tbody>\n",
       "    <tr>\n",
       "      <th>0</th>\n",
       "      <td>b000jz4hqo</td>\n",
       "      <td>clickart 950 000 premier image pack dvd rom</td>\n",
       "      <td>unknown</td>\n",
       "      <td>broderbund</td>\n",
       "      <td>0.00</td>\n",
       "      <td>amazon</td>\n",
       "    </tr>\n",
       "    <tr>\n",
       "      <th>1</th>\n",
       "      <td>b0006zf55o</td>\n",
       "      <td>ca international arcserve lap desktop oem 30pk</td>\n",
       "      <td>oem arcserve backup v11 1 win 30u for laptops ...</td>\n",
       "      <td>computer associates</td>\n",
       "      <td>0.00</td>\n",
       "      <td>amazon</td>\n",
       "    </tr>\n",
       "    <tr>\n",
       "      <th>2</th>\n",
       "      <td>b00004tkvy</td>\n",
       "      <td>noah s ark activity center jewel case ages 3 8</td>\n",
       "      <td>unknown</td>\n",
       "      <td>victory multimedia</td>\n",
       "      <td>0.00</td>\n",
       "      <td>amazon</td>\n",
       "    </tr>\n",
       "    <tr>\n",
       "      <th>3</th>\n",
       "      <td>b000g80lqo</td>\n",
       "      <td>peachtree by sage premium accounting for nonpr...</td>\n",
       "      <td>peachtree premium accounting for nonprofits 20...</td>\n",
       "      <td>sage software</td>\n",
       "      <td>599.99</td>\n",
       "      <td>amazon</td>\n",
       "    </tr>\n",
       "    <tr>\n",
       "      <th>4</th>\n",
       "      <td>b0006se5bq</td>\n",
       "      <td>singing coach unlimited</td>\n",
       "      <td>singing coach unlimited electronic learning pr...</td>\n",
       "      <td>carry a tune technologies</td>\n",
       "      <td>99.99</td>\n",
       "      <td>amazon</td>\n",
       "    </tr>\n",
       "  </tbody>\n",
       "</table>\n",
       "</div>"
      ],
      "text/plain": [
       "    source_id                                               name  \\\n",
       "0  b000jz4hqo       clickart 950 000 premier image pack dvd rom    \n",
       "1  b0006zf55o     ca international arcserve lap desktop oem 30pk   \n",
       "2  b00004tkvy    noah s ark activity center jewel case ages 3 8    \n",
       "3  b000g80lqo  peachtree by sage premium accounting for nonpr...   \n",
       "4  b0006se5bq                            singing coach unlimited   \n",
       "\n",
       "                                         description  \\\n",
       "0                                            unknown   \n",
       "1  oem arcserve backup v11 1 win 30u for laptops ...   \n",
       "2                                            unknown   \n",
       "3  peachtree premium accounting for nonprofits 20...   \n",
       "4  singing coach unlimited electronic learning pr...   \n",
       "\n",
       "                manufacturer   price  source  \n",
       "0                 broderbund    0.00  amazon  \n",
       "1        computer associates    0.00  amazon  \n",
       "2         victory multimedia    0.00  amazon  \n",
       "3              sage software  599.99  amazon  \n",
       "4  carry a tune technologies   99.99  amazon  "
      ]
     },
     "execution_count": 20,
     "metadata": {},
     "output_type": "execute_result"
    }
   ],
   "source": [
    "amazon_df.head()"
   ]
  },
  {
   "cell_type": "code",
   "execution_count": 21,
   "id": "26cc9e07",
   "metadata": {},
   "outputs": [],
   "source": [
    "df = pd.concat([google_df, amazon_df])"
   ]
  },
  {
   "cell_type": "code",
   "execution_count": 22,
   "id": "fc230a68",
   "metadata": {},
   "outputs": [
    {
     "data": {
      "text/html": [
       "<div>\n",
       "<style scoped>\n",
       "    .dataframe tbody tr th:only-of-type {\n",
       "        vertical-align: middle;\n",
       "    }\n",
       "\n",
       "    .dataframe tbody tr th {\n",
       "        vertical-align: top;\n",
       "    }\n",
       "\n",
       "    .dataframe thead th {\n",
       "        text-align: right;\n",
       "    }\n",
       "</style>\n",
       "<table border=\"1\" class=\"dataframe\">\n",
       "  <thead>\n",
       "    <tr style=\"text-align: right;\">\n",
       "      <th></th>\n",
       "      <th>source_id</th>\n",
       "      <th>name</th>\n",
       "      <th>description</th>\n",
       "      <th>manufacturer</th>\n",
       "      <th>price</th>\n",
       "      <th>source</th>\n",
       "    </tr>\n",
       "  </thead>\n",
       "  <tbody>\n",
       "    <tr>\n",
       "      <th>0</th>\n",
       "      <td>http://www.google.com/base/feeds/snippets/1112...</td>\n",
       "      <td>learning quickbooks 2007</td>\n",
       "      <td>learning quickbooks 2007</td>\n",
       "      <td>intuit</td>\n",
       "      <td>3899.00</td>\n",
       "      <td>google</td>\n",
       "    </tr>\n",
       "    <tr>\n",
       "      <th>1</th>\n",
       "      <td>http://www.google.com/base/feeds/snippets/1153...</td>\n",
       "      <td>superstart fun with reading writing</td>\n",
       "      <td>fun with reading writing is designed to help k...</td>\n",
       "      <td>unknown</td>\n",
       "      <td>849.00</td>\n",
       "      <td>google</td>\n",
       "    </tr>\n",
       "    <tr>\n",
       "      <th>2</th>\n",
       "      <td>http://www.google.com/base/feeds/snippets/1134...</td>\n",
       "      <td>qb pos 6 0 basic software</td>\n",
       "      <td>qb pos 6 0 basic retail mngmt software for ret...</td>\n",
       "      <td>intuit</td>\n",
       "      <td>63799.00</td>\n",
       "      <td>google</td>\n",
       "    </tr>\n",
       "    <tr>\n",
       "      <th>3</th>\n",
       "      <td>http://www.google.com/base/feeds/snippets/1204...</td>\n",
       "      <td>math missions the amazing arcade adventure gra...</td>\n",
       "      <td>save spectacle city by disrupting randall unde...</td>\n",
       "      <td>unknown</td>\n",
       "      <td>1295.00</td>\n",
       "      <td>google</td>\n",
       "    </tr>\n",
       "    <tr>\n",
       "      <th>4</th>\n",
       "      <td>http://www.google.com/base/feeds/snippets/1224...</td>\n",
       "      <td>production prem cs3 mac upgrad</td>\n",
       "      <td>adobe cs3 production premium mac upgrade from ...</td>\n",
       "      <td>adobe software</td>\n",
       "      <td>80599.00</td>\n",
       "      <td>google</td>\n",
       "    </tr>\n",
       "    <tr>\n",
       "      <th>...</th>\n",
       "      <td>...</td>\n",
       "      <td>...</td>\n",
       "      <td>...</td>\n",
       "      <td>...</td>\n",
       "      <td>...</td>\n",
       "      <td>...</td>\n",
       "    </tr>\n",
       "    <tr>\n",
       "      <th>1358</th>\n",
       "      <td>b000cs3s2c</td>\n",
       "      <td>flash remoting 1 alp ret eng cd 2u</td>\n",
       "      <td>marketing information macromedia flash remoti...</td>\n",
       "      <td>adobe</td>\n",
       "      <td>3314.09</td>\n",
       "      <td>amazon</td>\n",
       "    </tr>\n",
       "    <tr>\n",
       "      <th>1359</th>\n",
       "      <td>b00005bigp</td>\n",
       "      <td>shapes</td>\n",
       "      <td>unknown</td>\n",
       "      <td>school zone</td>\n",
       "      <td>9.99</td>\n",
       "      <td>amazon</td>\n",
       "    </tr>\n",
       "    <tr>\n",
       "      <th>1360</th>\n",
       "      <td>b000h1df7w</td>\n",
       "      <td>dragon naturally speaking standard v9</td>\n",
       "      <td>dragon naturallyspeaking 9 standard edition gi...</td>\n",
       "      <td>nuance communications inc</td>\n",
       "      <td>99.99</td>\n",
       "      <td>amazon</td>\n",
       "    </tr>\n",
       "    <tr>\n",
       "      <th>1361</th>\n",
       "      <td>b000p9cr66</td>\n",
       "      <td>mediarecover</td>\n",
       "      <td>mediarecover gives you the ability to recover ...</td>\n",
       "      <td>aladdin systems</td>\n",
       "      <td>29.99</td>\n",
       "      <td>amazon</td>\n",
       "    </tr>\n",
       "    <tr>\n",
       "      <th>1362</th>\n",
       "      <td>b000j588g4</td>\n",
       "      <td>photo explosion 3 0</td>\n",
       "      <td>photo explosion 3 0</td>\n",
       "      <td>nova development</td>\n",
       "      <td>29.99</td>\n",
       "      <td>amazon</td>\n",
       "    </tr>\n",
       "  </tbody>\n",
       "</table>\n",
       "<p>4589 rows × 6 columns</p>\n",
       "</div>"
      ],
      "text/plain": [
       "                                              source_id  \\\n",
       "0     http://www.google.com/base/feeds/snippets/1112...   \n",
       "1     http://www.google.com/base/feeds/snippets/1153...   \n",
       "2     http://www.google.com/base/feeds/snippets/1134...   \n",
       "3     http://www.google.com/base/feeds/snippets/1204...   \n",
       "4     http://www.google.com/base/feeds/snippets/1224...   \n",
       "...                                                 ...   \n",
       "1358                                         b000cs3s2c   \n",
       "1359                                         b00005bigp   \n",
       "1360                                         b000h1df7w   \n",
       "1361                                         b000p9cr66   \n",
       "1362                                         b000j588g4   \n",
       "\n",
       "                                                   name  \\\n",
       "0                              learning quickbooks 2007   \n",
       "1                  superstart fun with reading writing    \n",
       "2                             qb pos 6 0 basic software   \n",
       "3     math missions the amazing arcade adventure gra...   \n",
       "4                        production prem cs3 mac upgrad   \n",
       "...                                                 ...   \n",
       "1358                 flash remoting 1 alp ret eng cd 2u   \n",
       "1359                                             shapes   \n",
       "1360              dragon naturally speaking standard v9   \n",
       "1361                                       mediarecover   \n",
       "1362                                photo explosion 3 0   \n",
       "\n",
       "                                            description  \\\n",
       "0                              learning quickbooks 2007   \n",
       "1     fun with reading writing is designed to help k...   \n",
       "2     qb pos 6 0 basic retail mngmt software for ret...   \n",
       "3     save spectacle city by disrupting randall unde...   \n",
       "4     adobe cs3 production premium mac upgrade from ...   \n",
       "...                                                 ...   \n",
       "1358   marketing information macromedia flash remoti...   \n",
       "1359                                            unknown   \n",
       "1360  dragon naturallyspeaking 9 standard edition gi...   \n",
       "1361  mediarecover gives you the ability to recover ...   \n",
       "1362                                photo explosion 3 0   \n",
       "\n",
       "                    manufacturer     price  source  \n",
       "0                         intuit   3899.00  google  \n",
       "1                        unknown    849.00  google  \n",
       "2                         intuit  63799.00  google  \n",
       "3                        unknown   1295.00  google  \n",
       "4                 adobe software  80599.00  google  \n",
       "...                          ...       ...     ...  \n",
       "1358                       adobe   3314.09  amazon  \n",
       "1359                 school zone      9.99  amazon  \n",
       "1360  nuance communications inc      99.99  amazon  \n",
       "1361             aladdin systems     29.99  amazon  \n",
       "1362            nova development     29.99  amazon  \n",
       "\n",
       "[4589 rows x 6 columns]"
      ]
     },
     "execution_count": 22,
     "metadata": {},
     "output_type": "execute_result"
    }
   ],
   "source": [
    "df"
   ]
  },
  {
   "cell_type": "code",
   "execution_count": 23,
   "id": "5126bdde",
   "metadata": {},
   "outputs": [],
   "source": [
    "import spacy\n",
    "nlp = spacy.load('en_core_web_sm')"
   ]
  },
  {
   "cell_type": "code",
   "execution_count": 24,
   "id": "f56d0c31",
   "metadata": {},
   "outputs": [],
   "source": [
    "doc = nlp(\"Tea is healthy and calming, don't you think?\")"
   ]
  },
  {
   "cell_type": "code",
   "execution_count": 49,
   "id": "1e186aec",
   "metadata": {},
   "outputs": [
    {
     "data": {
      "text/plain": [
       "(3226, 6)"
      ]
     },
     "execution_count": 49,
     "metadata": {},
     "output_type": "execute_result"
    }
   ],
   "source": [
    "google_df.shape"
   ]
  },
  {
   "cell_type": "code",
   "execution_count": 50,
   "id": "66409cfd",
   "metadata": {},
   "outputs": [
    {
     "data": {
      "text/plain": [
       "(1363, 6)"
      ]
     },
     "execution_count": 50,
     "metadata": {},
     "output_type": "execute_result"
    }
   ],
   "source": [
    "amazon_df.shape"
   ]
  },
  {
   "cell_type": "code",
   "execution_count": 69,
   "id": "3be7060b",
   "metadata": {},
   "outputs": [],
   "source": [
    "a = '123'"
   ]
  },
  {
   "cell_type": "code",
   "execution_count": 73,
   "id": "da5257f4",
   "metadata": {},
   "outputs": [
    {
     "data": {
      "text/plain": [
       "'1'"
      ]
     },
     "execution_count": 73,
     "metadata": {},
     "output_type": "execute_result"
    }
   ],
   "source": [
    "list(a).pop(0)"
   ]
  },
  {
   "cell_type": "code",
   "execution_count": 75,
   "id": "9bdb2ceb",
   "metadata": {},
   "outputs": [],
   "source": [
    "a = set()"
   ]
  },
  {
   "cell_type": "code",
   "execution_count": 76,
   "id": "d87371bf",
   "metadata": {},
   "outputs": [
    {
     "data": {
      "text/plain": [
       "0"
      ]
     },
     "execution_count": 76,
     "metadata": {},
     "output_type": "execute_result"
    }
   ],
   "source": [
    "len(a)"
   ]
  },
  {
   "cell_type": "code",
   "execution_count": 77,
   "id": "983c70b7",
   "metadata": {},
   "outputs": [],
   "source": [
    "a = '123'"
   ]
  },
  {
   "cell_type": "code",
   "execution_count": 78,
   "id": "a2dcfe76",
   "metadata": {},
   "outputs": [
    {
     "data": {
      "text/plain": [
       "{'1', '2', '3'}"
      ]
     },
     "execution_count": 78,
     "metadata": {},
     "output_type": "execute_result"
    }
   ],
   "source": [
    "set(a)"
   ]
  },
  {
   "cell_type": "code",
   "execution_count": 93,
   "id": "067a681a",
   "metadata": {},
   "outputs": [],
   "source": [
    "from functools import reduce\n",
    "dict_s = {'a': 2, 'b': 2, 'c': 1}\n",
    "balance = reduce(lambda a, b: sum(list(dict_s.values()))/len(list(dict_s.values())) - b, list(dict_s.values()))"
   ]
  },
  {
   "cell_type": "code",
   "execution_count": 96,
   "id": "4251d2f0",
   "metadata": {},
   "outputs": [
    {
     "data": {
      "text/plain": [
       "0.6666666666666667"
      ]
     },
     "execution_count": 96,
     "metadata": {},
     "output_type": "execute_result"
    }
   ],
   "source": [
    "balance"
   ]
  },
  {
   "cell_type": "code",
   "execution_count": 109,
   "id": "0c76d695",
   "metadata": {},
   "outputs": [],
   "source": [
    "def isValid(s):\n",
    "    # Write your code here\n",
    "    dict_s = {}\n",
    "    for c in s:\n",
    "        if c in dict_s:\n",
    "            dict_s[c] += 1\n",
    "        else:\n",
    "            dict_s[c] = 1\n",
    "        \n",
    "    inv_dict = defaultdict(list)\n",
    "    for k, v in dict_s.items():\n",
    "        inv_dict[v].append(k)\n",
    "        \n",
    "    set_values = list(set(dict_s.values()))\n",
    "    if len(set_values) > 2:\n",
    "        return 'NO'\n",
    "    if len(set_values) == 1:\n",
    "        return 'YES'\n",
    "    if len(set_values) == 2:\n",
    "        set_a = inv_dict[set_values[0]]\n",
    "        set_b = inv_dict[set_values[1]]\n",
    "        print(set_values[0], set_a)\n",
    "        print(set_values[1], set_b)        \n",
    "        if (set_values[0] == 1 and len(set_a) == 1) or (set_values[1] == 1 and len(set_b) == 1):\n",
    "            return 'YES'\n",
    "        elif abs(set_values[0] - set_values[1]) == 1:\n",
    "            min_val_set = set_b if len(set_b) < len(set_a) else set_a\n",
    "            return 'YES' if len(min_val_set) == 1 else 'NO'\n",
    "        return 'NO' "
   ]
  },
  {
   "cell_type": "code",
   "execution_count": 110,
   "id": "3ce1669b",
   "metadata": {},
   "outputs": [
    {
     "name": "stdout",
     "output_type": "stream",
     "text": [
      "2 ['a', 'b', 'c', 'd', 'f', 'g', 'h']\n",
      "3 ['e']\n"
     ]
    },
    {
     "data": {
      "text/plain": [
       "'YES'"
      ]
     },
     "execution_count": 110,
     "metadata": {},
     "output_type": "execute_result"
    }
   ],
   "source": [
    "isValid('abcdefghhgfedecba')"
   ]
  },
  {
   "cell_type": "code",
   "execution_count": 115,
   "id": "9de3475f",
   "metadata": {},
   "outputs": [
    {
     "data": {
      "text/plain": [
       "2"
      ]
     },
     "execution_count": 115,
     "metadata": {},
     "output_type": "execute_result"
    }
   ],
   "source": [
    "sub = '121'\n",
    "math.ceil(len(sub)/2)"
   ]
  },
  {
   "cell_type": "code",
   "execution_count": 112,
   "id": "1d391b66",
   "metadata": {},
   "outputs": [],
   "source": [
    "import math"
   ]
  },
  {
   "cell_type": "code",
   "execution_count": 84,
   "id": "0b460729",
   "metadata": {},
   "outputs": [],
   "source": [
    "import math\n",
    "import os\n",
    "import random\n",
    "import re\n",
    "import sys\n",
    "from itertools import combinations\n",
    "\n",
    "# Complete the substrCount function below.\n",
    "def substrCount(n, s):\n",
    "    def is_special(sub, l):\n",
    "        if not sub:\n",
    "            return False\n",
    "        if l == 1:\n",
    "            return True\n",
    "        set_sub = set(sub)\n",
    "        if len(set_sub) == 1:\n",
    "            return True\n",
    "        if l % 2 == 0:\n",
    "            return False\n",
    "        else:\n",
    "            return len(set_sub) == 2 and sub[math.floor(l/2)] != sub[0] and sub[math.floor(l/2)] != sub[-1]\n",
    "    \n",
    "    special_strs = n\n",
    "    for x in range(n):\n",
    "        for y in range(x+2, n+1):\n",
    "            if is_special(s[x:y], y-x):\n",
    "                special_strs += 1\n",
    "               \n",
    "    return special_strs"
   ]
  },
  {
   "cell_type": "code",
   "execution_count": 85,
   "id": "dac7bb28",
   "metadata": {},
   "outputs": [
    {
     "name": "stdout",
     "output_type": "stream",
     "text": [
      "non\n",
      "ono\n",
      "opo\n",
      "oo\n"
     ]
    },
    {
     "data": {
      "text/plain": [
       "12"
      ]
     },
     "execution_count": 85,
     "metadata": {},
     "output_type": "execute_result"
    }
   ],
   "source": [
    "substrCount(8, 'mnonopoo')"
   ]
  },
  {
   "cell_type": "code",
   "execution_count": 99,
   "id": "bbc6bf9d",
   "metadata": {},
   "outputs": [
    {
     "name": "stdout",
     "output_type": "stream",
     "text": [
      "['HARRY', 'SALLY']\n"
     ]
    }
   ],
   "source": [
    "s1 = 'HARRY'\n",
    "s2 = 'SALLY'\n",
    "print(sorted([s1, s2]))"
   ]
  },
  {
   "cell_type": "code",
   "execution_count": 100,
   "id": "db8dc751",
   "metadata": {},
   "outputs": [],
   "source": [
    "def commonChild(s1, s2):\n",
    "    # Write your code here\n",
    "    s1, s2 = sorted([s1, s2])\n",
    "    common = 0\n",
    "    remember_jdx = 0   \n",
    "    jdx = 0 \n",
    "    start = 0\n",
    "    idx = 0\n",
    "    while (idx < len(s1)):\n",
    "        if jdx == len(s2):\n",
    "            jdx = remember_jdx\n",
    "        while (jdx < len(s2)):\n",
    "            if s1[idx] == s2[jdx]:\n",
    "                common += 1\n",
    "                jdx += 1\n",
    "                remember_jdx = jdx\n",
    "                break\n",
    "            jdx += 1\n",
    "        idx += 1\n",
    "            \n",
    "    return common"
   ]
  },
  {
   "cell_type": "code",
   "execution_count": 101,
   "id": "c9bbb652",
   "metadata": {},
   "outputs": [],
   "source": [
    "s1 = 'WEWOUCUIDGCGTRMEZEPXZFEJWISRSBBSYXAYDFEJJDLEBVHHKS'"
   ]
  },
  {
   "cell_type": "code",
   "execution_count": null,
   "id": "3694a58c",
   "metadata": {},
   "outputs": [],
   "source": []
  }
 ],
 "metadata": {
  "kernelspec": {
   "display_name": "Python 3 (ipykernel)",
   "language": "python",
   "name": "python3"
  },
  "language_info": {
   "codemirror_mode": {
    "name": "ipython",
    "version": 3
   },
   "file_extension": ".py",
   "mimetype": "text/x-python",
   "name": "python",
   "nbconvert_exporter": "python",
   "pygments_lexer": "ipython3",
   "version": "3.9.6"
  }
 },
 "nbformat": 4,
 "nbformat_minor": 5
}
