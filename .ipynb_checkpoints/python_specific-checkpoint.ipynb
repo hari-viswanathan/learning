{
 "cells": [
  {
   "cell_type": "code",
   "execution_count": 1,
   "id": "3c31058d",
   "metadata": {},
   "outputs": [],
   "source": [
    "tup = (1, 2, 3,)"
   ]
  },
  {
   "cell_type": "code",
   "execution_count": 2,
   "id": "9bcd9d82",
   "metadata": {},
   "outputs": [
    {
     "data": {
      "text/plain": [
       "(1, 2, 3)"
      ]
     },
     "execution_count": 2,
     "metadata": {},
     "output_type": "execute_result"
    }
   ],
   "source": [
    "tup"
   ]
  },
  {
   "cell_type": "code",
   "execution_count": 3,
   "id": "3eabe5d1",
   "metadata": {},
   "outputs": [],
   "source": [
    "lis = [1, 2, 3]"
   ]
  },
  {
   "cell_type": "code",
   "execution_count": 4,
   "id": "797fe8fa",
   "metadata": {},
   "outputs": [
    {
     "data": {
      "text/plain": [
       "[1, 2, 3]"
      ]
     },
     "execution_count": 4,
     "metadata": {},
     "output_type": "execute_result"
    }
   ],
   "source": [
    "lis"
   ]
  },
  {
   "cell_type": "code",
   "execution_count": 6,
   "id": "eaafebd4",
   "metadata": {},
   "outputs": [],
   "source": [
    "lis.extend([3])"
   ]
  },
  {
   "cell_type": "code",
   "execution_count": 7,
   "id": "3951972d",
   "metadata": {},
   "outputs": [
    {
     "data": {
      "text/plain": [
       "[1, 2, 3, 3]"
      ]
     },
     "execution_count": 7,
     "metadata": {},
     "output_type": "execute_result"
    }
   ],
   "source": [
    "lis"
   ]
  },
  {
   "cell_type": "code",
   "execution_count": 16,
   "id": "48863a1c",
   "metadata": {},
   "outputs": [
    {
     "data": {
      "text/plain": [
       "(1, 2, 3, 3, 4)"
      ]
     },
     "execution_count": 16,
     "metadata": {},
     "output_type": "execute_result"
    }
   ],
   "source": [
    "tup + (3,4)"
   ]
  },
  {
   "cell_type": "code",
   "execution_count": 17,
   "id": "a39893a8",
   "metadata": {},
   "outputs": [
    {
     "data": {
      "text/plain": [
       "(1, 2, 3)"
      ]
     },
     "execution_count": 17,
     "metadata": {},
     "output_type": "execute_result"
    }
   ],
   "source": [
    "tup"
   ]
  },
  {
   "cell_type": "code",
   "execution_count": 18,
   "id": "20f211a1",
   "metadata": {},
   "outputs": [],
   "source": [
    "se = {1, 2, 3}"
   ]
  },
  {
   "cell_type": "code",
   "execution_count": 19,
   "id": "cae4834a",
   "metadata": {},
   "outputs": [
    {
     "data": {
      "text/plain": [
       "set"
      ]
     },
     "execution_count": 19,
     "metadata": {},
     "output_type": "execute_result"
    }
   ],
   "source": [
    "type(se)"
   ]
  },
  {
   "cell_type": "code",
   "execution_count": 20,
   "id": "b1e68d05",
   "metadata": {},
   "outputs": [],
   "source": [
    "se.add(4)"
   ]
  },
  {
   "cell_type": "code",
   "execution_count": 21,
   "id": "d6113658",
   "metadata": {},
   "outputs": [
    {
     "data": {
      "text/plain": [
       "{1, 2, 3, 4}"
      ]
     },
     "execution_count": 21,
     "metadata": {},
     "output_type": "execute_result"
    }
   ],
   "source": [
    "se"
   ]
  },
  {
   "cell_type": "code",
   "execution_count": 36,
   "id": "a2db4a68",
   "metadata": {},
   "outputs": [
    {
     "data": {
      "text/plain": [
       "range(2, 10, 2)"
      ]
     },
     "execution_count": 36,
     "metadata": {},
     "output_type": "execute_result"
    }
   ],
   "source": [
    "range(2,10,2)"
   ]
  },
  {
   "cell_type": "code",
   "execution_count": 38,
   "id": "3e200776",
   "metadata": {},
   "outputs": [],
   "source": [
    "def add_three(x):\n",
    "    return x + 3\n",
    "li = [1,2,3]\n",
    "res = map(add_three, li)"
   ]
  },
  {
   "cell_type": "code",
   "execution_count": 47,
   "id": "1e5328e1",
   "metadata": {},
   "outputs": [
    {
     "data": {
      "text/plain": [
       "11"
      ]
     },
     "execution_count": 47,
     "metadata": {},
     "output_type": "execute_result"
    }
   ],
   "source": [
    "from functools import reduce\n",
    "def add_three(x,y):\n",
    "    return x + y\n",
    "li = [1,2,3,5]\n",
    "reduce(add_three, li)"
   ]
  },
  {
   "cell_type": "code",
   "execution_count": 50,
   "id": "2e429a19",
   "metadata": {},
   "outputs": [],
   "source": [
    "li = ['a','b','c']"
   ]
  },
  {
   "cell_type": "raw",
   "id": "d5048c96",
   "metadata": {},
   "source": []
  }
 ],
 "metadata": {
  "kernelspec": {
   "display_name": "Python 3 (ipykernel)",
   "language": "python",
   "name": "python3"
  },
  "language_info": {
   "codemirror_mode": {
    "name": "ipython",
    "version": 3
   },
   "file_extension": ".py",
   "mimetype": "text/x-python",
   "name": "python",
   "nbconvert_exporter": "python",
   "pygments_lexer": "ipython3",
   "version": "3.9.6"
  }
 },
 "nbformat": 4,
 "nbformat_minor": 5
}
