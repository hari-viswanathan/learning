{
 "cells": [
  {
   "cell_type": "code",
   "execution_count": 1,
   "id": "2028a5c7",
   "metadata": {},
   "outputs": [],
   "source": [
    "import spacy"
   ]
  },
  {
   "cell_type": "code",
   "execution_count": 2,
   "id": "1ecc3d36",
   "metadata": {},
   "outputs": [],
   "source": [
    "nlp = spacy.load('en_core_web_sm')"
   ]
  },
  {
   "cell_type": "code",
   "execution_count": 3,
   "id": "a0870d66",
   "metadata": {},
   "outputs": [],
   "source": [
    "doc = nlp(\"Tea is healthy and calming, don't you think?\")"
   ]
  },
  {
   "cell_type": "code",
   "execution_count": 53,
   "id": "818f0c8a",
   "metadata": {},
   "outputs": [
    {
     "name": "stdout",
     "output_type": "stream",
     "text": [
      "Tea | tea | False\n",
      "is | be | True\n",
      "healthy | healthy | False\n",
      "and | and | True\n",
      "calming | calm | False\n",
      ", | , | False\n",
      "do | do | True\n",
      "n't | n't | True\n",
      "you | you | True\n",
      "think | think | False\n",
      "? | ? | False\n"
     ]
    }
   ],
   "source": [
    "for token in doc:\n",
    "    print('{} | {} | {}'.format(token.text, token.lemma_, token.is_stop))"
   ]
  },
  {
   "cell_type": "code",
   "execution_count": 40,
   "id": "b4b16c45",
   "metadata": {},
   "outputs": [],
   "source": [
    "from spacy.matcher import PhraseMatcher"
   ]
  },
  {
   "cell_type": "code",
   "execution_count": 41,
   "id": "b4e90149",
   "metadata": {},
   "outputs": [],
   "source": [
    "matcher = PhraseMatcher(nlp.vocab, attr='LOWER')"
   ]
  },
  {
   "cell_type": "code",
   "execution_count": 42,
   "id": "db5aa0d2",
   "metadata": {},
   "outputs": [],
   "source": [
    "terms = ['Galaxy Note', 'iPhone 11', 'iPhone XS', 'Google Pixel']"
   ]
  },
  {
   "cell_type": "code",
   "execution_count": 43,
   "id": "d04a2cd1",
   "metadata": {},
   "outputs": [],
   "source": [
    "patterns = [nlp(term) for term in terms]"
   ]
  },
  {
   "cell_type": "code",
   "execution_count": 44,
   "id": "551da21b",
   "metadata": {},
   "outputs": [],
   "source": [
    "matcher.add('PhoneList', patterns)"
   ]
  },
  {
   "cell_type": "code",
   "execution_count": 45,
   "id": "b68b581f",
   "metadata": {},
   "outputs": [],
   "source": [
    "text_doc = nlp(\"Glowing review overall, and some really interesting side-by-side \"\n",
    "               \"photography tests pitting the iPhone 11 Pro against the \"\n",
    "               \"Galaxy Note 10 Plus and last year’s iPhone XS and Google Pixel 3.\") "
   ]
  },
  {
   "cell_type": "code",
   "execution_count": 46,
   "id": "0c95e79c",
   "metadata": {},
   "outputs": [],
   "source": [
    "matches = matcher(text_doc)"
   ]
  },
  {
   "cell_type": "code",
   "execution_count": 47,
   "id": "1182b73c",
   "metadata": {},
   "outputs": [
    {
     "name": "stdout",
     "output_type": "stream",
     "text": [
      "[(16260756990894137545, 17, 19), (16260756990894137545, 22, 24), (16260756990894137545, 30, 32), (16260756990894137545, 33, 35)]\n"
     ]
    }
   ],
   "source": [
    "print(matches)"
   ]
  },
  {
   "cell_type": "code",
   "execution_count": 48,
   "id": "c74add81",
   "metadata": {},
   "outputs": [
    {
     "name": "stdout",
     "output_type": "stream",
     "text": [
      "PhoneList iPhone 11\n",
      "PhoneList Galaxy Note\n",
      "PhoneList iPhone XS\n",
      "PhoneList Google Pixel\n"
     ]
    }
   ],
   "source": [
    "for match_id, start, end in matches:\n",
    "    print(nlp.vocab.strings[match_id], text_doc[start:end])"
   ]
  },
  {
   "cell_type": "code",
   "execution_count": 54,
   "id": "ca023322",
   "metadata": {},
   "outputs": [],
   "source": [
    "import pandas as pd"
   ]
  },
  {
   "cell_type": "code",
   "execution_count": 55,
   "id": "a5617eab",
   "metadata": {},
   "outputs": [],
   "source": [
    "spam = pd.read_csv('./datasets/spam.csv')"
   ]
  },
  {
   "cell_type": "code",
   "execution_count": 56,
   "id": "b4302089",
   "metadata": {},
   "outputs": [
    {
     "data": {
      "text/html": [
       "<div>\n",
       "<style scoped>\n",
       "    .dataframe tbody tr th:only-of-type {\n",
       "        vertical-align: middle;\n",
       "    }\n",
       "\n",
       "    .dataframe tbody tr th {\n",
       "        vertical-align: top;\n",
       "    }\n",
       "\n",
       "    .dataframe thead th {\n",
       "        text-align: right;\n",
       "    }\n",
       "</style>\n",
       "<table border=\"1\" class=\"dataframe\">\n",
       "  <thead>\n",
       "    <tr style=\"text-align: right;\">\n",
       "      <th></th>\n",
       "      <th>label</th>\n",
       "      <th>text</th>\n",
       "    </tr>\n",
       "  </thead>\n",
       "  <tbody>\n",
       "    <tr>\n",
       "      <th>0</th>\n",
       "      <td>ham</td>\n",
       "      <td>Go until jurong point, crazy.. Available only ...</td>\n",
       "    </tr>\n",
       "    <tr>\n",
       "      <th>1</th>\n",
       "      <td>ham</td>\n",
       "      <td>Ok lar... Joking wif u oni...</td>\n",
       "    </tr>\n",
       "    <tr>\n",
       "      <th>2</th>\n",
       "      <td>spam</td>\n",
       "      <td>Free entry in 2 a wkly comp to win FA Cup fina...</td>\n",
       "    </tr>\n",
       "    <tr>\n",
       "      <th>3</th>\n",
       "      <td>ham</td>\n",
       "      <td>U dun say so early hor... U c already then say...</td>\n",
       "    </tr>\n",
       "    <tr>\n",
       "      <th>4</th>\n",
       "      <td>ham</td>\n",
       "      <td>Nah I don't think he goes to usf, he lives aro...</td>\n",
       "    </tr>\n",
       "  </tbody>\n",
       "</table>\n",
       "</div>"
      ],
      "text/plain": [
       "  label                                               text\n",
       "0   ham  Go until jurong point, crazy.. Available only ...\n",
       "1   ham                      Ok lar... Joking wif u oni...\n",
       "2  spam  Free entry in 2 a wkly comp to win FA Cup fina...\n",
       "3   ham  U dun say so early hor... U c already then say...\n",
       "4   ham  Nah I don't think he goes to usf, he lives aro..."
      ]
     },
     "execution_count": 56,
     "metadata": {},
     "output_type": "execute_result"
    }
   ],
   "source": [
    "spam.head()"
   ]
  },
  {
   "cell_type": "code",
   "execution_count": 57,
   "id": "9a2b588a",
   "metadata": {},
   "outputs": [],
   "source": [
    "nlp = spacy.blank('en')"
   ]
  },
  {
   "cell_type": "code",
   "execution_count": 58,
   "id": "ec337ad3",
   "metadata": {},
   "outputs": [],
   "source": [
    "textcat = nlp.add_pipe('textcat')"
   ]
  },
  {
   "cell_type": "code",
   "execution_count": 59,
   "id": "a41a4250",
   "metadata": {},
   "outputs": [
    {
     "data": {
      "text/plain": [
       "1"
      ]
     },
     "execution_count": 59,
     "metadata": {},
     "output_type": "execute_result"
    }
   ],
   "source": [
    "textcat.add_label('ham')"
   ]
  },
  {
   "cell_type": "code",
   "execution_count": 60,
   "id": "5314b60f",
   "metadata": {},
   "outputs": [
    {
     "data": {
      "text/plain": [
       "1"
      ]
     },
     "execution_count": 60,
     "metadata": {},
     "output_type": "execute_result"
    }
   ],
   "source": [
    "textcat.add_label('spam')"
   ]
  },
  {
   "cell_type": "code",
   "execution_count": 61,
   "id": "c7ba5c0c",
   "metadata": {},
   "outputs": [],
   "source": [
    "train_texts = spam['text'].values"
   ]
  },
  {
   "cell_type": "code",
   "execution_count": 62,
   "id": "93f6764e",
   "metadata": {},
   "outputs": [
    {
     "data": {
      "text/plain": [
       "5572"
      ]
     },
     "execution_count": 62,
     "metadata": {},
     "output_type": "execute_result"
    }
   ],
   "source": [
    "len(train_texts)"
   ]
  },
  {
   "cell_type": "code",
   "execution_count": 63,
   "id": "8f74c996",
   "metadata": {},
   "outputs": [
    {
     "data": {
      "text/plain": [
       "11144"
      ]
     },
     "execution_count": 63,
     "metadata": {},
     "output_type": "execute_result"
    }
   ],
   "source": [
    "spam.size"
   ]
  },
  {
   "cell_type": "code",
   "execution_count": 64,
   "id": "a7433177",
   "metadata": {},
   "outputs": [],
   "source": [
    "train_cats = [\n",
    "    {\n",
    "        'cats': {\n",
    "            'ham': label == 'ham',\n",
    "            'spam': label == 'spam',\n",
    "        }\n",
    "    } for label in spam['label']\n",
    "]"
   ]
  },
  {
   "cell_type": "code",
   "execution_count": 66,
   "id": "c59e80f4",
   "metadata": {},
   "outputs": [],
   "source": [
    "train_data = list(zip(train_texts, train_cats))"
   ]
  },
  {
   "cell_type": "code",
   "execution_count": 67,
   "id": "68342c4c",
   "metadata": {},
   "outputs": [
    {
     "data": {
      "text/plain": [
       "[('Go until jurong point, crazy.. Available only in bugis n great world la e buffet... Cine there got amore wat...',\n",
       "  {'cats': {'ham': True, 'spam': False}}),\n",
       " ('Ok lar... Joking wif u oni...', {'cats': {'ham': True, 'spam': False}}),\n",
       " (\"Free entry in 2 a wkly comp to win FA Cup final tkts 21st May 2005. Text FA to 87121 to receive entry question(std txt rate)T&C's apply 08452810075over18's\",\n",
       "  {'cats': {'ham': False, 'spam': True}})]"
      ]
     },
     "execution_count": 67,
     "metadata": {},
     "output_type": "execute_result"
    }
   ],
   "source": [
    "train_data[:3]"
   ]
  },
  {
   "cell_type": "code",
   "execution_count": 68,
   "id": "af07e718",
   "metadata": {},
   "outputs": [],
   "source": [
    "from spacy.util import minibatch"
   ]
  },
  {
   "cell_type": "code",
   "execution_count": 69,
   "id": "89c683d3",
   "metadata": {},
   "outputs": [],
   "source": [
    "from spacy.training.example import Example"
   ]
  },
  {
   "cell_type": "code",
   "execution_count": 71,
   "id": "6334b3da",
   "metadata": {},
   "outputs": [],
   "source": [
    "spacy.util.fix_random_seed(1)"
   ]
  },
  {
   "cell_type": "code",
   "execution_count": 72,
   "id": "e5dc105c",
   "metadata": {},
   "outputs": [],
   "source": [
    "optimizer = nlp.begin_training()"
   ]
  },
  {
   "cell_type": "code",
   "execution_count": 73,
   "id": "f2464f47",
   "metadata": {},
   "outputs": [],
   "source": [
    "batches = minibatch(train_data, size=8)"
   ]
  },
  {
   "cell_type": "code",
   "execution_count": 91,
   "id": "05aba5e4",
   "metadata": {},
   "outputs": [
    {
     "name": "stdout",
     "output_type": "stream",
     "text": [
      "Free entry in 2 a wkly comp to win FA Cup final tkts 21st May 2005. Text FA to 87121 to receive entry question(std txt rate)T&C's apply 08452810075over18's\n"
     ]
    }
   ],
   "source": [
    "for batch in batches:\n",
    "    for text, labels in batch:\n",
    "        doc = nlp.make_doc(text)\n",
    "        example = Example.from_dict(doc, labels)\n",
    "        nlp.update([example], sgd=optimizer)"
   ]
  },
  {
   "cell_type": "code",
   "execution_count": 75,
   "id": "8d5f4edf",
   "metadata": {},
   "outputs": [
    {
     "name": "stdout",
     "output_type": "stream",
     "text": [
      "{'textcat': 295.011506840551}\n",
      "{'textcat': 433.77393580817477}\n",
      "{'textcat': 517.9740727749643}\n",
      "{'textcat': 573.5902575228944}\n",
      "{'textcat': 605.8892598315485}\n",
      "{'textcat': 629.7489943420239}\n",
      "{'textcat': 666.9426019923563}\n",
      "{'textcat': 687.974971471699}\n",
      "{'textcat': 708.4414132585675}\n",
      "{'textcat': 724.0049989437431}\n"
     ]
    }
   ],
   "source": [
    "import random\n",
    "\n",
    "random.seed(1)\n",
    "spacy.util.fix_random_seed(1)\n",
    "optimizer = nlp.begin_training()\n",
    "\n",
    "losses = {}\n",
    "for epoch in range(10):\n",
    "    random.shuffle(train_data)\n",
    "    # Create the batch generator with batch size = 8\n",
    "    batches = minibatch(train_data, size=8)\n",
    "    # Iterate through minibatches\n",
    "    for batch in batches:\n",
    "        for text, labels in batch:\n",
    "            doc = nlp.make_doc(text)\n",
    "            example = Example.from_dict(doc, labels)\n",
    "            nlp.update([example], sgd=optimizer, losses=losses)\n",
    "    print(losses)"
   ]
  },
  {
   "cell_type": "code",
   "execution_count": 76,
   "id": "367b12e3",
   "metadata": {},
   "outputs": [],
   "source": [
    "texts = [\"Are you ready for the tea party????? It's gonna be wild\",\n",
    "         \"URGENT Reply to this message for GUARANTEED FREE TEA\" ]"
   ]
  },
  {
   "cell_type": "code",
   "execution_count": 87,
   "id": "d61cbfec",
   "metadata": {},
   "outputs": [
    {
     "name": "stdout",
     "output_type": "stream",
     "text": [
      "[Are you ready for the tea party????? It's gonna be wild, URGENT Reply to this message for GUARANTEED FREE TEA]\n"
     ]
    }
   ],
   "source": [
    "docs = [nlp.tokenizer(text) for text in texts]\n",
    "print(docs)"
   ]
  },
  {
   "cell_type": "code",
   "execution_count": 78,
   "id": "b69016ab",
   "metadata": {},
   "outputs": [],
   "source": [
    "textcat = nlp.get_pipe('textcat')\n",
    "scores = textcat.predict(docs)"
   ]
  },
  {
   "cell_type": "code",
   "execution_count": 79,
   "id": "d8fe2e59",
   "metadata": {},
   "outputs": [
    {
     "name": "stdout",
     "output_type": "stream",
     "text": [
      "[[9.9999714e-01 2.8207435e-06]\n",
      " [3.3330774e-01 6.6669220e-01]]\n"
     ]
    }
   ],
   "source": [
    "print(scores)"
   ]
  },
  {
   "cell_type": "code",
   "execution_count": 88,
   "id": "48c0f237",
   "metadata": {},
   "outputs": [
    {
     "name": "stdout",
     "output_type": "stream",
     "text": [
      "[0 1]\n"
     ]
    }
   ],
   "source": [
    "predicted_labels = scores.argmax(axis=1)\n",
    "print(predicted_labels)"
   ]
  },
  {
   "cell_type": "code",
   "execution_count": 81,
   "id": "eccede03",
   "metadata": {},
   "outputs": [
    {
     "name": "stdout",
     "output_type": "stream",
     "text": [
      "['ham', 'spam']\n"
     ]
    }
   ],
   "source": [
    "print([textcat.labels[label] for label in predicted_labels])"
   ]
  },
  {
   "cell_type": "code",
   "execution_count": 101,
   "id": "ae98896d",
   "metadata": {},
   "outputs": [],
   "source": [
    "import numpy as np\n",
    "bool_list = np.array([False, True,  True,  True, False,  True,  True,  True,  True,  True,  True,  True])"
   ]
  },
  {
   "cell_type": "code",
   "execution_count": 102,
   "id": "3171394d",
   "metadata": {},
   "outputs": [
    {
     "data": {
      "text/plain": [
       "0.8333333333333334"
      ]
     },
     "execution_count": 102,
     "metadata": {},
     "output_type": "execute_result"
    }
   ],
   "source": [
    "bool_list.mean()"
   ]
  },
  {
   "cell_type": "code",
   "execution_count": 103,
   "id": "5ef6eff6",
   "metadata": {},
   "outputs": [],
   "source": [
    "nlp = spacy.load('en_core_web_lg')"
   ]
  },
  {
   "cell_type": "code",
   "execution_count": 104,
   "id": "6035e782",
   "metadata": {},
   "outputs": [],
   "source": [
    "text = \"These vectors can be used as features for machine learning models.\"\n",
    "with nlp.disable_pipes():\n",
    "    vectors = np.array([token.vector for token in  nlp(text)])"
   ]
  },
  {
   "cell_type": "code",
   "execution_count": 105,
   "id": "ceb13306",
   "metadata": {},
   "outputs": [
    {
     "name": "stdout",
     "output_type": "stream",
     "text": [
      "[[-0.1965    -0.13995   -0.52495   ... -0.097467   0.34578   -0.14233  ]\n",
      " [-0.25205   -0.16047   -0.6089    ...  0.19218   -0.40028    0.51894  ]\n",
      " [-0.23857    0.35457   -0.30219   ... -0.35283    0.41888    0.13168  ]\n",
      " ...\n",
      " [ 0.047511   0.1404    -0.11736   ...  0.03169   -0.14208    0.42548  ]\n",
      " [ 0.0065037  0.2064     0.0089077 ...  0.033444  -0.030121  -0.12998  ]\n",
      " [ 0.012001   0.20751   -0.12578   ...  0.13871   -0.36049   -0.035    ]]\n"
     ]
    }
   ],
   "source": [
    "print(vectors)"
   ]
  },
  {
   "cell_type": "code",
   "execution_count": 106,
   "id": "960c8677",
   "metadata": {},
   "outputs": [
    {
     "data": {
      "text/plain": [
       "(5572, 300)"
      ]
     },
     "execution_count": 106,
     "metadata": {},
     "output_type": "execute_result"
    }
   ],
   "source": [
    "with nlp.disable_pipes():\n",
    "    doc_vectors = np.array([nlp(text).vector for text in spam.text])\n",
    "    \n",
    "doc_vectors.shape"
   ]
  },
  {
   "cell_type": "code",
   "execution_count": 107,
   "id": "01b0574a",
   "metadata": {},
   "outputs": [],
   "source": [
    "from sklearn.model_selection import train_test_split"
   ]
  },
  {
   "cell_type": "code",
   "execution_count": 108,
   "id": "360b7a5e",
   "metadata": {},
   "outputs": [],
   "source": [
    "X_train, X_test, y_train, y_test = train_test_split(doc_vectors, spam.label,\n",
    "                                                    test_size=0.1, random_state=1)"
   ]
  },
  {
   "cell_type": "code",
   "execution_count": 109,
   "id": "39269f7c",
   "metadata": {},
   "outputs": [],
   "source": [
    "from sklearn.svm import LinearSVC"
   ]
  },
  {
   "cell_type": "code",
   "execution_count": 110,
   "id": "76ed1344",
   "metadata": {},
   "outputs": [],
   "source": [
    "svc = LinearSVC(random_state=1, dual=False, max_iter=10000)"
   ]
  },
  {
   "cell_type": "code",
   "execution_count": 111,
   "id": "bc360cf9",
   "metadata": {},
   "outputs": [
    {
     "data": {
      "text/plain": [
       "LinearSVC(dual=False, max_iter=10000, random_state=1)"
      ]
     },
     "execution_count": 111,
     "metadata": {},
     "output_type": "execute_result"
    }
   ],
   "source": [
    "svc.fit(X_train, y_train)"
   ]
  },
  {
   "cell_type": "code",
   "execution_count": 112,
   "id": "d3da6077",
   "metadata": {},
   "outputs": [
    {
     "name": "stdout",
     "output_type": "stream",
     "text": [
      "Accuracy: 97.670%\n"
     ]
    }
   ],
   "source": [
    "print(f\"Accuracy: {svc.score(X_test, y_test) * 100:.3f}%\", )"
   ]
  },
  {
   "cell_type": "code",
   "execution_count": 118,
   "id": "ef47af71",
   "metadata": {},
   "outputs": [
    {
     "data": {
      "text/plain": [
       "array(['ham'], dtype=object)"
      ]
     },
     "execution_count": 118,
     "metadata": {},
     "output_type": "execute_result"
    }
   ],
   "source": [
    "svc.predict(X_test[0].reshape(1, -1))"
   ]
  },
  {
   "cell_type": "code",
   "execution_count": 119,
   "id": "81c1dd52",
   "metadata": {},
   "outputs": [],
   "source": [
    "def cosine_similarity(a, b):\n",
    "    return a.dot(b)/np.sqrt(a.dot(a) * b.dot(b))"
   ]
  },
  {
   "cell_type": "code",
   "execution_count": null,
   "id": "4705be17",
   "metadata": {},
   "outputs": [],
   "source": []
  }
 ],
 "metadata": {
  "kernelspec": {
   "display_name": "Python 3 (ipykernel)",
   "language": "python",
   "name": "python3"
  },
  "language_info": {
   "codemirror_mode": {
    "name": "ipython",
    "version": 3
   },
   "file_extension": ".py",
   "mimetype": "text/x-python",
   "name": "python",
   "nbconvert_exporter": "python",
   "pygments_lexer": "ipython3",
   "version": "3.9.6"
  }
 },
 "nbformat": 4,
 "nbformat_minor": 5
}
