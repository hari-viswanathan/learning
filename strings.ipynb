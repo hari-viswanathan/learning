{
 "cells": [
  {
   "cell_type": "code",
   "execution_count": 31,
   "id": "2dcfb1fa",
   "metadata": {},
   "outputs": [
    {
     "data": {
      "text/plain": [
       "'dlrow olleh'"
      ]
     },
     "execution_count": 31,
     "metadata": {},
     "output_type": "execute_result"
    }
   ],
   "source": [
    "''.join(reversed(\"hello world\"))"
   ]
  },
  {
   "cell_type": "code",
   "execution_count": 32,
   "id": "4f2268d4",
   "metadata": {},
   "outputs": [],
   "source": [
    "temp = reversed(\"hello world\")"
   ]
  },
  {
   "cell_type": "code",
   "execution_count": 33,
   "id": "6f89688c",
   "metadata": {},
   "outputs": [
    {
     "data": {
      "text/plain": [
       "'dlrow olleh'"
      ]
     },
     "execution_count": 33,
     "metadata": {},
     "output_type": "execute_result"
    }
   ],
   "source": [
    "''.join(temp)"
   ]
  },
  {
   "cell_type": "code",
   "execution_count": 34,
   "id": "82780e40",
   "metadata": {},
   "outputs": [
    {
     "data": {
      "text/plain": [
       "[]"
      ]
     },
     "execution_count": 34,
     "metadata": {},
     "output_type": "execute_result"
    }
   ],
   "source": [
    "list(temp)"
   ]
  },
  {
   "cell_type": "code",
   "execution_count": 37,
   "id": "4c56d775",
   "metadata": {},
   "outputs": [
    {
     "data": {
      "text/plain": [
       "'olleh dlrow'"
      ]
     },
     "execution_count": 37,
     "metadata": {},
     "output_type": "execute_result"
    }
   ],
   "source": [
    "' '.join([''.join(reversed(word)) for word in \"hello world\".split()])"
   ]
  },
  {
   "cell_type": "code",
   "execution_count": 42,
   "id": "4f5a051c",
   "metadata": {},
   "outputs": [
    {
     "data": {
      "text/plain": [
       "True"
      ]
     },
     "execution_count": 42,
     "metadata": {},
     "output_type": "execute_result"
    }
   ],
   "source": [
    "'Toronto'.istitle()"
   ]
  },
  {
   "cell_type": "code",
   "execution_count": 45,
   "id": "453ebc3f",
   "metadata": {},
   "outputs": [
    {
     "data": {
      "text/plain": [
       "False"
      ]
     },
     "execution_count": 45,
     "metadata": {},
     "output_type": "execute_result"
    }
   ],
   "source": [
    "'One1'.isalpha()"
   ]
  },
  {
   "cell_type": "code",
   "execution_count": 49,
   "id": "8ba5f8d7",
   "metadata": {},
   "outputs": [
    {
     "data": {
      "text/plain": [
       "False"
      ]
     },
     "execution_count": 49,
     "metadata": {},
     "output_type": "execute_result"
    }
   ],
   "source": [
    "'1a'.isnumeric()"
   ]
  },
  {
   "cell_type": "code",
   "execution_count": 51,
   "id": "aa95ae3e",
   "metadata": {},
   "outputs": [
    {
     "data": {
      "text/plain": [
       "'g'"
      ]
     },
     "execution_count": 51,
     "metadata": {},
     "output_type": "execute_result"
    }
   ],
   "source": [
    "min('strings')"
   ]
  },
  {
   "cell_type": "code",
   "execution_count": 54,
   "id": "4703ae70",
   "metadata": {},
   "outputs": [
    {
     "data": {
      "text/plain": [
       "'Sally semountain sea shemountain by the sea shore'"
      ]
     },
     "execution_count": 54,
     "metadata": {},
     "output_type": "execute_result"
    }
   ],
   "source": [
    "sentence = 'Sally sells sea shells by the sea shore'\n",
    "sentence.replace('lls', 'mountain')"
   ]
  },
  {
   "cell_type": "code",
   "execution_count": 59,
   "id": "2a430d46",
   "metadata": {},
   "outputs": [
    {
     "name": "stdout",
     "output_type": "stream",
     "text": [
      "True\n"
     ]
    }
   ],
   "source": [
    "print( 'plane' in 'The worlds fastest plane' )"
   ]
  },
  {
   "cell_type": "code",
   "execution_count": 60,
   "id": "b3bf5157",
   "metadata": {},
   "outputs": [
    {
     "data": {
      "text/plain": [
       "4"
      ]
     },
     "execution_count": 60,
     "metadata": {},
     "output_type": "execute_result"
    }
   ],
   "source": [
    "len('The worlds fastest plane'.split())"
   ]
  },
  {
   "cell_type": "code",
   "execution_count": 62,
   "id": "758993a7",
   "metadata": {},
   "outputs": [
    {
     "name": "stdout",
     "output_type": "stream",
     "text": [
      "Hello. My name is Chris and I like creme brulee.\n"
     ]
    }
   ],
   "source": [
    "name = 'Chris'\n",
    "food = 'creme brulee'\n",
    "print(f'Hello. My name is {name} and I like {food}.')"
   ]
  },
  {
   "cell_type": "code",
   "execution_count": 65,
   "id": "3f3411bb",
   "metadata": {},
   "outputs": [
    {
     "data": {
      "text/plain": [
       "b'Fresh Tuna \\xc3\\x82'"
      ]
     },
     "execution_count": 65,
     "metadata": {},
     "output_type": "execute_result"
    }
   ],
   "source": [
    "'Fresh Tuna Â'.encode('utf-8')"
   ]
  },
  {
   "cell_type": "code",
   "execution_count": 69,
   "id": "28390cc2",
   "metadata": {},
   "outputs": [
    {
     "data": {
      "text/plain": [
       "'Once Upon A Time'"
      ]
     },
     "execution_count": 69,
     "metadata": {},
     "output_type": "execute_result"
    }
   ],
   "source": [
    "'once upon a time'.title()"
   ]
  },
  {
   "cell_type": "code",
   "execution_count": 72,
   "id": "858b9ea1",
   "metadata": {},
   "outputs": [
    {
     "name": "stdout",
     "output_type": "stream",
     "text": [
      "('If you', ' want ', 'to be a ninja')\n"
     ]
    }
   ],
   "source": [
    "sentence = \"If you want to be a ninja\"\n",
    "print(sentence.partition(' want '))"
   ]
  },
  {
   "cell_type": "code",
   "execution_count": 75,
   "id": "47c77b94",
   "metadata": {},
   "outputs": [
    {
     "name": "stdout",
     "output_type": "stream",
     "text": [
      "4480153136\n",
      "4480153136\n",
      "4480171184\n"
     ]
    }
   ],
   "source": [
    "animal = 'dog'\n",
    "print( id(animal) )\n",
    "\n",
    "pet = 'dog'\n",
    "print( id(pet) )\n",
    "pet = pet + ' cat'\n",
    "print( id(pet) )"
   ]
  },
  {
   "cell_type": "code",
   "execution_count": 1,
   "id": "59884673",
   "metadata": {},
   "outputs": [],
   "source": [
    "a = '123'"
   ]
  },
  {
   "cell_type": "code",
   "execution_count": 2,
   "id": "b7a79cf1",
   "metadata": {},
   "outputs": [
    {
     "data": {
      "text/plain": [
       "['__add__',\n",
       " '__class__',\n",
       " '__contains__',\n",
       " '__delattr__',\n",
       " '__dir__',\n",
       " '__doc__',\n",
       " '__eq__',\n",
       " '__format__',\n",
       " '__ge__',\n",
       " '__getattribute__',\n",
       " '__getitem__',\n",
       " '__getnewargs__',\n",
       " '__gt__',\n",
       " '__hash__',\n",
       " '__init__',\n",
       " '__init_subclass__',\n",
       " '__iter__',\n",
       " '__le__',\n",
       " '__len__',\n",
       " '__lt__',\n",
       " '__mod__',\n",
       " '__mul__',\n",
       " '__ne__',\n",
       " '__new__',\n",
       " '__reduce__',\n",
       " '__reduce_ex__',\n",
       " '__repr__',\n",
       " '__rmod__',\n",
       " '__rmul__',\n",
       " '__setattr__',\n",
       " '__sizeof__',\n",
       " '__str__',\n",
       " '__subclasshook__',\n",
       " 'capitalize',\n",
       " 'casefold',\n",
       " 'center',\n",
       " 'count',\n",
       " 'encode',\n",
       " 'endswith',\n",
       " 'expandtabs',\n",
       " 'find',\n",
       " 'format',\n",
       " 'format_map',\n",
       " 'index',\n",
       " 'isalnum',\n",
       " 'isalpha',\n",
       " 'isascii',\n",
       " 'isdecimal',\n",
       " 'isdigit',\n",
       " 'isidentifier',\n",
       " 'islower',\n",
       " 'isnumeric',\n",
       " 'isprintable',\n",
       " 'isspace',\n",
       " 'istitle',\n",
       " 'isupper',\n",
       " 'join',\n",
       " 'ljust',\n",
       " 'lower',\n",
       " 'lstrip',\n",
       " 'maketrans',\n",
       " 'partition',\n",
       " 'removeprefix',\n",
       " 'removesuffix',\n",
       " 'replace',\n",
       " 'rfind',\n",
       " 'rindex',\n",
       " 'rjust',\n",
       " 'rpartition',\n",
       " 'rsplit',\n",
       " 'rstrip',\n",
       " 'split',\n",
       " 'splitlines',\n",
       " 'startswith',\n",
       " 'strip',\n",
       " 'swapcase',\n",
       " 'title',\n",
       " 'translate',\n",
       " 'upper',\n",
       " 'zfill']"
      ]
     },
     "execution_count": 2,
     "metadata": {},
     "output_type": "execute_result"
    }
   ],
   "source": [
    "dir(a)"
   ]
  },
  {
   "cell_type": "code",
   "execution_count": 3,
   "id": "451411d4",
   "metadata": {},
   "outputs": [],
   "source": [
    "a = 'Abc'"
   ]
  },
  {
   "cell_type": "code",
   "execution_count": 4,
   "id": "e0fed4c6",
   "metadata": {},
   "outputs": [
    {
     "data": {
      "text/plain": [
       "'aBC'"
      ]
     },
     "execution_count": 4,
     "metadata": {},
     "output_type": "execute_result"
    }
   ],
   "source": [
    "a.swapcase()"
   ]
  },
  {
   "cell_type": "code",
   "execution_count": 5,
   "id": "80e519fe",
   "metadata": {},
   "outputs": [],
   "source": [
    "prod = 'compaq comp. secure path v3.0c-netware wrkgrp 50 lic ( 231327-b22 )'"
   ]
  },
  {
   "cell_type": "code",
   "execution_count": 18,
   "id": "27b65ee2",
   "metadata": {},
   "outputs": [],
   "source": [
    "import re"
   ]
  },
  {
   "cell_type": "code",
   "execution_count": 37,
   "id": "7af53505",
   "metadata": {},
   "outputs": [
    {
     "name": "stdout",
     "output_type": "stream",
     "text": [
      "compaq comp. secure path v3.0c-netware wrkgrp 50 lic ( 231327-b22 )\n"
     ]
    }
   ],
   "source": [
    "print(prod)\n",
    "new_prod = re.sub('[\\W]', ' ', prod)\n",
    "new_prod = re.sub('[\\s]{2,}', ' ', new_prod)"
   ]
  },
  {
   "cell_type": "code",
   "execution_count": 38,
   "id": "88c9868b",
   "metadata": {},
   "outputs": [
    {
     "data": {
      "text/plain": [
       "'compaq comp secure path v3 0c netware wrkgrp 50 lic 231327 b22 '"
      ]
     },
     "execution_count": 38,
     "metadata": {},
     "output_type": "execute_result"
    }
   ],
   "source": [
    "new_prod"
   ]
  },
  {
   "cell_type": "code",
   "execution_count": null,
   "id": "c41030b4",
   "metadata": {},
   "outputs": [],
   "source": []
  },
  {
   "cell_type": "code",
   "execution_count": null,
   "id": "18328edf",
   "metadata": {},
   "outputs": [],
   "source": []
  }
 ],
 "metadata": {
  "kernelspec": {
   "display_name": "Python 3 (ipykernel)",
   "language": "python",
   "name": "python3"
  },
  "language_info": {
   "codemirror_mode": {
    "name": "ipython",
    "version": 3
   },
   "file_extension": ".py",
   "mimetype": "text/x-python",
   "name": "python",
   "nbconvert_exporter": "python",
   "pygments_lexer": "ipython3",
   "version": "3.9.6"
  }
 },
 "nbformat": 4,
 "nbformat_minor": 5
}
