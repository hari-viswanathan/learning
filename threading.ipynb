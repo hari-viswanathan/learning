{
 "cells": [
  {
   "cell_type": "code",
   "execution_count": 45,
   "id": "e914f875",
   "metadata": {},
   "outputs": [],
   "source": [
    "import logging\n",
    "import threading\n",
    "import time"
   ]
  },
  {
   "cell_type": "code",
   "execution_count": 46,
   "id": "f0e3ddd9",
   "metadata": {},
   "outputs": [],
   "source": [
    "def thread_function(name, secondary_id):\n",
    "    logging.info(f'Thread %s:%s is starting' % (name, secondary_id))\n",
    "    time.sleep(2)\n",
    "    logging.info(f'Thread %s:%s is ending' % (name, secondary_id))"
   ]
  },
  {
   "cell_type": "code",
   "execution_count": 47,
   "id": "cd31b6d4",
   "metadata": {},
   "outputs": [],
   "source": [
    "format = \"%(asctime)s: %(message)s\"\n",
    "logging.basicConfig(format=format, level=logging.INFO, datefmt=\"%H:%M:%S\")"
   ]
  },
  {
   "cell_type": "code",
   "execution_count": 58,
   "id": "5919009f",
   "metadata": {},
   "outputs": [],
   "source": [
    "def parent_method():\n",
    "    logging.info(\"Main    : before creating thread\")\n",
    "#     x = threading.Thread(target=thread_function, args=('one', 1), daemon=True)\n",
    "    x = threading.Thread(target=thread_function, args=('one', 1))\n",
    "    logging.info(\"Main    : before running thread\")\n",
    "    x.start()\n",
    "    logging.info(\"Main    : wait for the thread to finish\")\n",
    "#     x.join()\n",
    "    logging.info(\"Main    : all done\")\n",
    "    \n",
    "# Note that daemon setting won't work in ipython. If I had used\n",
    "# __name__ == '__main__' and then invoked the script, the use of daemon setting can be demo'ed"
   ]
  },
  {
   "cell_type": "code",
   "execution_count": 60,
   "id": "87d86cbb",
   "metadata": {},
   "outputs": [
    {
     "name": "stderr",
     "output_type": "stream",
     "text": [
      "18:35:14: Main    : before creating thread\n",
      "18:35:14: Main    : before running thread\n",
      "18:35:14: Thread one:1 is starting\n",
      "18:35:14: Main    : wait for the thread to finish\n",
      "18:35:16: Thread one:1 is ending\n",
      "18:35:16: Main    : all done\n"
     ]
    }
   ],
   "source": [
    "parent_method()"
   ]
  },
  {
   "cell_type": "code",
   "execution_count": 123,
   "id": "224633c5",
   "metadata": {},
   "outputs": [
    {
     "name": "stderr",
     "output_type": "stream",
     "text": [
      "10:00:32: Main    : create and start thread 0.\n",
      "10:00:32: Thread 0: starting\n",
      "10:00:32: Main    : create and start thread 1.\n",
      "10:00:32: Thread 1: starting\n",
      "10:00:32: Main    : create and start thread 2.\n",
      "10:00:32: Thread 2: starting\n",
      "10:00:32: Main    : before joining thread 0.\n",
      "10:00:34: Thread 0: finishing\n",
      "10:00:34: Main    : thread 0 done\n",
      "10:00:34: Main    : before joining thread 1.\n",
      "10:00:34: Thread 1: finishing\n",
      "10:00:34: Main    : thread 1 done\n",
      "10:00:34: Main    : before joining thread 2.\n",
      "10:00:34: Thread 2: finishing\n",
      "10:00:34: Main    : thread 2 done\n"
     ]
    }
   ],
   "source": [
    "import logging\n",
    "import threading\n",
    "import time\n",
    "\n",
    "def thread_function(name):\n",
    "    logging.info(\"Thread %s: starting\", name)\n",
    "    time.sleep(2)\n",
    "    logging.info(\"Thread %s: finishing\", name)\n",
    "\n",
    "format = \"%(asctime)s: %(message)s\"\n",
    "logging.basicConfig(format=format, level=logging.INFO,\n",
    "                    datefmt=\"%H:%M:%S\")\n",
    "\n",
    "threads = list()\n",
    "for index in range(3):\n",
    "    logging.info(\"Main    : create and start thread %d.\", index)\n",
    "    x = threading.Thread(target=thread_function, args=(index,))\n",
    "    threads.append(x)\n",
    "    x.start()\n",
    "\n",
    "for index, thread in enumerate(threads):\n",
    "    logging.info(\"Main    : before joining thread %d.\", index)\n",
    "    thread.join()\n",
    "    logging.info(\"Main    : thread %d done\", index)"
   ]
  },
  {
   "cell_type": "code",
   "execution_count": 124,
   "id": "50ec820d",
   "metadata": {},
   "outputs": [
    {
     "name": "stderr",
     "output_type": "stream",
     "text": [
      "10:00:38: Thread 0: starting\n",
      "10:00:38: Thread 1: starting\n",
      "10:00:38: Thread 2: starting\n",
      "10:00:40: Thread 0: finishing\n",
      "10:00:40: Thread 2: finishing\n",
      "10:00:40: Thread 1: finishing\n"
     ]
    }
   ],
   "source": [
    "# Using a thread pool executor\n",
    "import concurrent.futures\n",
    "\n",
    "# [rest of code]\n",
    "\n",
    "format = \"%(asctime)s: %(message)s\"\n",
    "logging.basicConfig(format=format, level=logging.INFO,\n",
    "                    datefmt=\"%H:%M:%S\")\n",
    "\n",
    "with concurrent.futures.ThreadPoolExecutor(max_workers=3) as executor:\n",
    "    executor.map(thread_function, range(3))"
   ]
  },
  {
   "cell_type": "code",
   "execution_count": 151,
   "id": "cec15f28",
   "metadata": {},
   "outputs": [],
   "source": [
    "# class FakeDatabase:\n",
    "#     def __init__(self):\n",
    "#         self.value = 0\n",
    "\n",
    "#     def update(self, name):\n",
    "#         logging.info(\"Thread %s: starting update\", name)\n",
    "#         local_copy = self.value\n",
    "#         local_copy += 1\n",
    "#         time.sleep(0.1)\n",
    "#         self.value = local_copy\n",
    "#         logging.info(\"Thread %s: finishing update\", name)"
   ]
  },
  {
   "cell_type": "code",
   "execution_count": 153,
   "id": "d1b6aaad",
   "metadata": {},
   "outputs": [],
   "source": [
    "class FakeDatabase:\n",
    "    def __init__(self):\n",
    "        self.value = 0\n",
    "        self._lock = threading.Lock()\n",
    "\n",
    "    def update(self, name):\n",
    "        with self._lock:\n",
    "            logging.info(\"Thread %s: starting update\", name)\n",
    "            local_copy = self.value\n",
    "            local_copy += 1\n",
    "            time.sleep(0.1)\n",
    "            self.value = local_copy\n",
    "            logging.info(\"Thread %s: finishing update\", name)"
   ]
  },
  {
   "cell_type": "code",
   "execution_count": 154,
   "id": "9d293469",
   "metadata": {},
   "outputs": [
    {
     "name": "stderr",
     "output_type": "stream",
     "text": [
      "10:44:44: Testing update. Starting value is 0.\n",
      "10:44:44: Thread 0: starting update\n",
      "10:44:44: Thread 0: finishing update\n",
      "10:44:44: Thread 1: starting update\n",
      "10:44:45: Thread 1: finishing update\n",
      "10:44:45: Testing update. Ending value is 2.\n"
     ]
    }
   ],
   "source": [
    "format = \"%(asctime)s: %(message)s\"\n",
    "logging.basicConfig(format=format, level=logging.INFO,\n",
    "                    datefmt=\"%H:%M:%S\")\n",
    "\n",
    "database = FakeDatabase()\n",
    "logging.info(\"Testing update. Starting value is %d.\", database.value)\n",
    "with concurrent.futures.ThreadPoolExecutor(max_workers=2) as executor:\n",
    "    for index in range(2):\n",
    "        executor.submit(database.update, index)\n",
    "logging.info(\"Testing update. Ending value is %d.\", database.value)"
   ]
  },
  {
   "cell_type": "code",
   "execution_count": 156,
   "id": "38d58007",
   "metadata": {},
   "outputs": [
    {
     "name": "stdout",
     "output_type": "stream",
     "text": [
      "before first acquire\n",
      "before second acquire\n",
      "acquired lock twice\n"
     ]
    }
   ],
   "source": [
    "import threading\n",
    "\n",
    "l = threading.RLock()\n",
    "print(\"before first acquire\")\n",
    "l.acquire()\n",
    "print(\"before second acquire\")\n",
    "l.acquire()\n",
    "print(\"acquired lock twice\")\n",
    "l.release()\n",
    "l.release()"
   ]
  },
  {
   "cell_type": "code",
   "execution_count": 183,
   "id": "7d01ef1a",
   "metadata": {},
   "outputs": [],
   "source": [
    "import random\n",
    "\n",
    "SENTINEL = 'SENTINEL'\n",
    "\n",
    "def producer(pipeline):\n",
    "    for iteration in range(10):\n",
    "        message = random.randint(1,100)\n",
    "        print(\"Producer generating message {}\".format(message))\n",
    "        pipeline.set_message(message, \"Producer\")\n",
    "        print(\"Producer sent message {}\".format(message))\n",
    "        \n",
    "    pipeline.set_message(SENTINEL, \"Producer\")"
   ]
  },
  {
   "cell_type": "code",
   "execution_count": 184,
   "id": "21d55874",
   "metadata": {},
   "outputs": [],
   "source": [
    "def consumer(pipeline):\n",
    "    message = None\n",
    "    while message is not SENTINEL:\n",
    "        message = pipeline.get_message(\"Consumer\")        \n",
    "        print(\"Consumer received message {}\".format(message))"
   ]
  },
  {
   "cell_type": "code",
   "execution_count": 185,
   "id": "5f027c04",
   "metadata": {},
   "outputs": [],
   "source": [
    "class Pipeline:\n",
    "    def __init__(self):\n",
    "        self.message = None\n",
    "        self.producer_lock = threading.Lock()\n",
    "        self.consumer_lock = threading.Lock()\n",
    "        self.consumer_lock.acquire()\n",
    "        \n",
    "    def set_message(self, message, agent):\n",
    "        self.producer_lock.acquire()\n",
    "        self.message = message\n",
    "        self.consumer_lock.release()\n",
    "        \n",
    "    def get_message(self, agent):\n",
    "        self.consumer_lock.acquire()\n",
    "        message = self.message\n",
    "        self.producer_lock.release()\n",
    "        return message"
   ]
  },
  {
   "cell_type": "code",
   "execution_count": 186,
   "id": "457bcf8e",
   "metadata": {},
   "outputs": [
    {
     "name": "stdout",
     "output_type": "stream",
     "text": [
      "Producer generating message 95\n",
      "Producer sent message 95\n",
      "Producer generating message 64\n",
      "Consumer received message 95\n",
      "Producer sent message 64Consumer received message 64\n",
      "Producer generating message 64\n",
      "Producer sent message 64\n",
      "Producer generating message 73\n",
      "\n",
      "Consumer received message 64\n",
      "Producer sent message 73\n",
      "Producer generating message 29\n",
      "Consumer received message 73\n",
      "Producer sent message 29Consumer received message 29\n",
      "\n",
      "Producer generating message 2\n",
      "Producer sent message 2\n",
      "Consumer received message 2Producer generating message 84\n",
      "Producer sent message 84\n",
      "Producer generating message 31\n",
      "\n",
      "Consumer received message 84\n",
      "Producer sent message 31Consumer received message 31\n",
      "\n",
      "Producer generating message 7\n",
      "Producer sent message 7\n",
      "Producer generating message 67\n",
      "Consumer received message 7Producer sent message 67\n",
      "\n",
      "Consumer received message 67\n",
      "Consumer received message SENTINEL\n"
     ]
    }
   ],
   "source": [
    "if __name__ == \"__main__\":\n",
    "    pipeline = Pipeline()\n",
    "    with concurrent.futures.ThreadPoolExecutor(max_workers=2) as executor:\n",
    "        executor.submit(producer, pipeline)\n",
    "        executor.submit(consumer, pipeline)"
   ]
  },
  {
   "cell_type": "code",
   "execution_count": 6,
   "id": "9af81ec9",
   "metadata": {},
   "outputs": [
    {
     "name": "stderr",
     "output_type": "stream",
     "text": [
      "18:29:14: Producer got message: 28\n",
      "18:29:14: Producer got message: 45\n",
      "18:29:14: Consumer storing message: 28 (size=0)\n",
      "18:29:14: Producer got message: 2\n",
      "18:29:14: Consumer storing message: 45 (size=0)\n",
      "18:29:14: Producer got message: 69\n",
      "18:29:14: Consumer storing message: 2 (size=0)\n",
      "18:29:14: Producer got message: 33\n",
      "18:29:14: Consumer storing message: 69 (size=0)\n",
      "18:29:14: Producer got message: 73\n",
      "18:29:14: Consumer storing message: 33 (size=0)\n",
      "18:29:14: Producer got message: 84\n",
      "18:29:14: Consumer storing message: 73 (size=0)\n",
      "18:29:14: Producer got message: 30\n",
      "18:29:14: Consumer storing message: 84 (size=0)\n",
      "18:29:14: Producer got message: 31\n",
      "18:29:14: Consumer storing message: 30 (size=0)\n",
      "18:29:14: Consumer storing message: 31 (size=0)\n",
      "18:29:14: Producer got message: 60\n",
      "18:29:14: Producer got message: 58\n",
      "18:29:14: Producer got message: 88\n",
      "18:29:14: Producer got message: 53\n",
      "18:29:14: Consumer storing message: 60 (size=0)\n",
      "18:29:14: Consumer storing message: 58 (size=2)\n",
      "18:29:14: Producer got message: 48\n",
      "18:29:14: Consumer storing message: 88 (size=1)\n",
      "18:29:14: Producer got message: 73\n",
      "18:29:14: Consumer storing message: 53 (size=1)\n",
      "18:29:14: Producer got message: 74\n",
      "18:29:14: Consumer storing message: 48 (size=1)\n",
      "18:29:14: Producer got message: 66\n",
      "18:29:14: Consumer storing message: 73 (size=1)\n",
      "18:29:14: Producer got message: 84\n",
      "18:29:14: Consumer storing message: 74 (size=1)\n",
      "18:29:14: Producer got message: 51\n",
      "18:29:14: Consumer storing message: 66 (size=1)\n",
      "18:29:14: Producer got message: 48\n",
      "18:29:14: Consumer storing message: 84 (size=1)\n",
      "18:29:14: Producer got message: 47\n",
      "18:29:14: Consumer storing message: 51 (size=1)\n",
      "18:29:14: Producer got message: 14\n",
      "18:29:14: Consumer storing message: 48 (size=1)\n",
      "18:29:14: Consumer storing message: 47 (size=1)\n",
      "18:29:14: Consumer storing message: 14 (size=0)\n",
      "18:29:14: Producer got message: 89\n",
      "18:29:14: Producer got message: 26\n",
      "18:29:14: Producer got message: 64\n",
      "18:29:14: Producer got message: 44\n",
      "18:29:14: Producer got message: 74\n",
      "18:29:14: Producer got message: 52\n",
      "18:29:14: Producer got message: 54\n",
      "18:29:14: Main: about to set event\n",
      "18:29:14: Consumer storing message: 89 (size=0)\n",
      "18:29:14: Producer got message: 76\n",
      "18:29:14: Producer received event. Exiting\n",
      "18:29:14: Consumer storing message: 26 (size=5)\n",
      "18:29:14: Consumer storing message: 64 (size=5)\n",
      "18:29:14: Consumer storing message: 44 (size=4)\n",
      "18:29:14: Consumer storing message: 74 (size=3)\n",
      "18:29:14: Consumer storing message: 52 (size=2)\n",
      "18:29:14: Consumer storing message: 54 (size=1)\n",
      "18:29:14: Consumer storing message: 76 (size=0)\n",
      "18:29:14: Consumer received event. Exiting\n"
     ]
    }
   ],
   "source": [
    "import concurrent.futures\n",
    "import logging\n",
    "import queue\n",
    "import random\n",
    "import threading\n",
    "import time\n",
    "\n",
    "def producer(queue, event):\n",
    "    \"\"\"Pretend we're getting a number from the network.\"\"\"\n",
    "    while not event.is_set():\n",
    "        message = random.randint(1, 101)\n",
    "        logging.info(\"Producer got message: %s\", message)\n",
    "        queue.put(message)\n",
    "\n",
    "    logging.info(\"Producer received event. Exiting\")\n",
    "\n",
    "def consumer(queue, event):\n",
    "    \"\"\"Pretend we're saving a number in the database.\"\"\"\n",
    "    while not event.is_set() or not queue.empty():\n",
    "        message = queue.get()\n",
    "        logging.info(\n",
    "            \"Consumer storing message: %s (size=%d)\", message, queue.qsize()\n",
    "        )\n",
    "\n",
    "    logging.info(\"Consumer received event. Exiting\")\n",
    "\n",
    "if __name__ == \"__main__\":\n",
    "    format = \"%(asctime)s: %(message)s\"\n",
    "    logging.basicConfig(format=format, level=logging.INFO,\n",
    "                        datefmt=\"%H:%M:%S\")\n",
    "\n",
    "    pipeline = queue.Queue(maxsize=10)\n",
    "    event = threading.Event()\n",
    "    with concurrent.futures.ThreadPoolExecutor(max_workers=2) as executor:\n",
    "        executor.submit(producer, pipeline, event)\n",
    "        executor.submit(consumer, pipeline, event)\n",
    "\n",
    "        time.sleep(0.1)\n",
    "        logging.info(\"Main: about to set event\")\n",
    "        event.set()"
   ]
  },
  {
   "cell_type": "code",
   "execution_count": 7,
   "id": "7fb3d38a",
   "metadata": {},
   "outputs": [
    {
     "name": "stdout",
     "output_type": "stream",
     "text": [
      "Hello world!\n"
     ]
    }
   ],
   "source": [
    "import threading \n",
    "def second_alarm(message):\n",
    "    print(message)\n",
    "    \n",
    "alarm = threading.Timer(1.0, second_alarm, [\"Hello world!\"])\n",
    "alarm.start()\n",
    "alarm.join()"
   ]
  },
  {
   "cell_type": "code",
   "execution_count": 19,
   "id": "8d8d17d0",
   "metadata": {},
   "outputs": [
    {
     "name": "stdout",
     "output_type": "stream",
     "text": [
      "Hello #0, Thread-1\n",
      "Hello #0, Thread-2\n",
      "Hello #0, Thread-3\n",
      "Hello #0, Thread-4\n",
      "Hello #0, Thread-5\n",
      "Hello #1, Thread-2Hello #1, Thread-1Hello #1, Thread-4\n",
      "Hello #1, Thread-5\n",
      "\n",
      "\n",
      "Hello #1, Thread-3\n",
      "Hello #2, Thread-4Hello #2, Thread-5Hello #2, Thread-2\n",
      "\n",
      "\n",
      "Hello #2, Thread-1Hello #2, Thread-3\n",
      "\n",
      "Hello #3, Thread-4Hello #3, Thread-2Hello #3, Thread-5\n",
      "\n",
      "\n",
      "Hello #3, Thread-1Hello #3, Thread-3\n",
      "\n",
      "Hello #4, Thread-5\n",
      "Hello #4, Thread-4Hello #4, Thread-2\n",
      "\n",
      "Hello #4, Thread-1\n",
      "Hello #4, Thread-3\n"
     ]
    }
   ],
   "source": [
    "# importing the modules\n",
    "from threading import *\n",
    "import time\n",
    "\n",
    "# creating thread instance where count = 3\n",
    "obj = Semaphore(3)\n",
    "\n",
    "# creating instance\n",
    "def display(name):\n",
    "    for i in range(5):\n",
    "        # calling acquire method\n",
    "        obj.acquire()        \n",
    "        print('Hello #%d, ' % i + name)\n",
    "        # calling release method\n",
    "        obj.release()        \n",
    "        time.sleep(1)\n",
    "\n",
    "\n",
    "# creating multiple thread\n",
    "t1 = Thread(target = display , args = ('Thread-1',))\n",
    "t2 = Thread(target = display , args = ('Thread-2',))\n",
    "t3 = Thread(target = display , args = ('Thread-3',))\n",
    "t4 = Thread(target = display , args = ('Thread-4',))\n",
    "t5 = Thread(target = display , args = ('Thread-5',))\n",
    "\n",
    "# calling the threads\n",
    "t1.start()\n",
    "t2.start()\n",
    "t3.start()\n",
    "t4.start()\n",
    "t5.start()\n"
   ]
  },
  {
   "cell_type": "code",
   "execution_count": 3,
   "id": "fc4c0597",
   "metadata": {},
   "outputs": [
    {
     "name": "stdout",
     "output_type": "stream",
     "text": [
      "100\n",
      "\n",
      "Parties = 3\n",
      "\n",
      "n_waiting = 0\n",
      "\n",
      "101\n",
      "\n",
      "Parties = 3\n",
      "\n",
      "n_waiting = 1\n",
      "\n",
      "False\n",
      "\n",
      "n_waiting after reset = 0\n",
      "End\n"
     ]
    }
   ],
   "source": [
    "# program to demonstrate\n",
    "# barriers in python\n",
    "  \n",
    "import threading\n",
    "  \n",
    "barrier = threading.Barrier(3)\n",
    "  \n",
    "class thread(threading.Thread):\n",
    "    def __init__(self, thread_ID):\n",
    "        threading.Thread.__init__(self)\n",
    "        self.thread_ID = thread_ID\n",
    "    def run(self):\n",
    "        print(str(self.thread_ID) + \"\\n\")\n",
    "        print(\"Parties = \" + str(barrier.parties) + \"\\n\")\n",
    "        print(\"n_waiting = \" + str(barrier.n_waiting) + \"\\n\")\n",
    "        barrier.wait()\n",
    "          \n",
    "thread1 = thread(100)\n",
    "thread2 = thread(101)\n",
    "  \n",
    "thread1.start()\n",
    "thread2.start()\n",
    "\n",
    "barrier.wait()\n",
    "        \n",
    "print(str(barrier.broken) + \"\\n\")\n",
    "barrier.reset()\n",
    "print(\"n_waiting after reset = \" + str(barrier.n_waiting))\n",
    "barrier.abort()\n",
    "print(\"End\")"
   ]
  },
  {
   "cell_type": "code",
   "execution_count": null,
   "id": "23f7967b",
   "metadata": {},
   "outputs": [],
   "source": []
  }
 ],
 "metadata": {
  "kernelspec": {
   "display_name": "Python 3 (ipykernel)",
   "language": "python",
   "name": "python3"
  },
  "language_info": {
   "codemirror_mode": {
    "name": "ipython",
    "version": 3
   },
   "file_extension": ".py",
   "mimetype": "text/x-python",
   "name": "python",
   "nbconvert_exporter": "python",
   "pygments_lexer": "ipython3",
   "version": "3.9.6"
  }
 },
 "nbformat": 4,
 "nbformat_minor": 5
}
