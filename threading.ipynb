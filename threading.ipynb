{
 "cells": [
  {
   "cell_type": "code",
   "execution_count": 45,
   "id": "9bd109f4",
   "metadata": {},
   "outputs": [],
   "source": [
    "import logging\n",
    "import threading\n",
    "import time"
   ]
  },
  {
   "cell_type": "code",
   "execution_count": 46,
   "id": "3627cb1d",
   "metadata": {},
   "outputs": [],
   "source": [
    "def thread_function(name, secondary_id):\n",
    "    logging.info(f'Thread %s:%s is starting' % (name, secondary_id))\n",
    "    time.sleep(2)\n",
    "    logging.info(f'Thread %s:%s is ending' % (name, secondary_id))"
   ]
  },
  {
   "cell_type": "code",
   "execution_count": 47,
   "id": "f4639024",
   "metadata": {},
   "outputs": [],
   "source": [
    "format = \"%(asctime)s: %(message)s\"\n",
    "logging.basicConfig(format=format, level=logging.INFO, datefmt=\"%H:%M:%S\")"
   ]
  },
  {
   "cell_type": "code",
   "execution_count": 58,
   "id": "5e921579",
   "metadata": {},
   "outputs": [],
   "source": [
    "def parent_method():\n",
    "    logging.info(\"Main    : before creating thread\")\n",
    "#     x = threading.Thread(target=thread_function, args=('one', 1), daemon=True)\n",
    "    x = threading.Thread(target=thread_function, args=('one', 1))\n",
    "    logging.info(\"Main    : before running thread\")\n",
    "    x.start()\n",
    "    logging.info(\"Main    : wait for the thread to finish\")\n",
    "#     x.join()\n",
    "    logging.info(\"Main    : all done\")\n",
    "    \n",
    "# Note that daemon setting won't work in ipython. If I had used\n",
    "# __name__ == '__main__' and then invoked the script, the use of daemon setting can be demo'ed"
   ]
  },
  {
   "cell_type": "code",
   "execution_count": 60,
   "id": "69069cc9",
   "metadata": {},
   "outputs": [
    {
     "name": "stderr",
     "output_type": "stream",
     "text": [
      "18:35:14: Main    : before creating thread\n",
      "18:35:14: Main    : before running thread\n",
      "18:35:14: Thread one:1 is starting\n",
      "18:35:14: Main    : wait for the thread to finish\n",
      "18:35:16: Thread one:1 is ending\n",
      "18:35:16: Main    : all done\n"
     ]
    }
   ],
   "source": [
    "parent_method()"
   ]
  },
  {
   "cell_type": "code",
   "execution_count": 123,
   "id": "c4b41dc6",
   "metadata": {},
   "outputs": [
    {
     "name": "stderr",
     "output_type": "stream",
     "text": [
      "10:00:32: Main    : create and start thread 0.\n",
      "10:00:32: Thread 0: starting\n",
      "10:00:32: Main    : create and start thread 1.\n",
      "10:00:32: Thread 1: starting\n",
      "10:00:32: Main    : create and start thread 2.\n",
      "10:00:32: Thread 2: starting\n",
      "10:00:32: Main    : before joining thread 0.\n",
      "10:00:34: Thread 0: finishing\n",
      "10:00:34: Main    : thread 0 done\n",
      "10:00:34: Main    : before joining thread 1.\n",
      "10:00:34: Thread 1: finishing\n",
      "10:00:34: Main    : thread 1 done\n",
      "10:00:34: Main    : before joining thread 2.\n",
      "10:00:34: Thread 2: finishing\n",
      "10:00:34: Main    : thread 2 done\n"
     ]
    }
   ],
   "source": [
    "import logging\n",
    "import threading\n",
    "import time\n",
    "\n",
    "def thread_function(name):\n",
    "    logging.info(\"Thread %s: starting\", name)\n",
    "    time.sleep(2)\n",
    "    logging.info(\"Thread %s: finishing\", name)\n",
    "\n",
    "format = \"%(asctime)s: %(message)s\"\n",
    "logging.basicConfig(format=format, level=logging.INFO,\n",
    "                    datefmt=\"%H:%M:%S\")\n",
    "\n",
    "threads = list()\n",
    "for index in range(3):\n",
    "    logging.info(\"Main    : create and start thread %d.\", index)\n",
    "    x = threading.Thread(target=thread_function, args=(index,))\n",
    "    threads.append(x)\n",
    "    x.start()\n",
    "\n",
    "for index, thread in enumerate(threads):\n",
    "    logging.info(\"Main    : before joining thread %d.\", index)\n",
    "    thread.join()\n",
    "    logging.info(\"Main    : thread %d done\", index)"
   ]
  },
  {
   "cell_type": "code",
   "execution_count": 124,
   "id": "a69c243d",
   "metadata": {},
   "outputs": [
    {
     "name": "stderr",
     "output_type": "stream",
     "text": [
      "10:00:38: Thread 0: starting\n",
      "10:00:38: Thread 1: starting\n",
      "10:00:38: Thread 2: starting\n",
      "10:00:40: Thread 0: finishing\n",
      "10:00:40: Thread 2: finishing\n",
      "10:00:40: Thread 1: finishing\n"
     ]
    }
   ],
   "source": [
    "# Using a thread pool executor\n",
    "import concurrent.futures\n",
    "\n",
    "# [rest of code]\n",
    "\n",
    "format = \"%(asctime)s: %(message)s\"\n",
    "logging.basicConfig(format=format, level=logging.INFO,\n",
    "                    datefmt=\"%H:%M:%S\")\n",
    "\n",
    "with concurrent.futures.ThreadPoolExecutor(max_workers=3) as executor:\n",
    "    executor.map(thread_function, range(3))"
   ]
  },
  {
   "cell_type": "code",
   "execution_count": 151,
   "id": "2b51272b",
   "metadata": {},
   "outputs": [],
   "source": [
    "# class FakeDatabase:\n",
    "#     def __init__(self):\n",
    "#         self.value = 0\n",
    "\n",
    "#     def update(self, name):\n",
    "#         logging.info(\"Thread %s: starting update\", name)\n",
    "#         local_copy = self.value\n",
    "#         local_copy += 1\n",
    "#         time.sleep(0.1)\n",
    "#         self.value = local_copy\n",
    "#         logging.info(\"Thread %s: finishing update\", name)"
   ]
  },
  {
   "cell_type": "code",
   "execution_count": 153,
   "id": "d685dfea",
   "metadata": {},
   "outputs": [],
   "source": [
    "class FakeDatabase:\n",
    "    def __init__(self):\n",
    "        self.value = 0\n",
    "        self._lock = threading.Lock()\n",
    "\n",
    "    def update(self, name):\n",
    "        with self._lock:\n",
    "            logging.info(\"Thread %s: starting update\", name)\n",
    "            local_copy = self.value\n",
    "            local_copy += 1\n",
    "            time.sleep(0.1)\n",
    "            self.value = local_copy\n",
    "            logging.info(\"Thread %s: finishing update\", name)"
   ]
  },
  {
   "cell_type": "code",
   "execution_count": 154,
   "id": "6ef63729",
   "metadata": {},
   "outputs": [
    {
     "name": "stderr",
     "output_type": "stream",
     "text": [
      "10:44:44: Testing update. Starting value is 0.\n",
      "10:44:44: Thread 0: starting update\n",
      "10:44:44: Thread 0: finishing update\n",
      "10:44:44: Thread 1: starting update\n",
      "10:44:45: Thread 1: finishing update\n",
      "10:44:45: Testing update. Ending value is 2.\n"
     ]
    }
   ],
   "source": [
    "format = \"%(asctime)s: %(message)s\"\n",
    "logging.basicConfig(format=format, level=logging.INFO,\n",
    "                    datefmt=\"%H:%M:%S\")\n",
    "\n",
    "database = FakeDatabase()\n",
    "logging.info(\"Testing update. Starting value is %d.\", database.value)\n",
    "with concurrent.futures.ThreadPoolExecutor(max_workers=2) as executor:\n",
    "    for index in range(2):\n",
    "        executor.submit(database.update, index)\n",
    "logging.info(\"Testing update. Ending value is %d.\", database.value)"
   ]
  },
  {
   "cell_type": "code",
   "execution_count": null,
   "id": "86e34bd3",
   "metadata": {},
   "outputs": [],
   "source": []
  },
  {
   "cell_type": "code",
   "execution_count": null,
   "id": "01616e0e",
   "metadata": {},
   "outputs": [],
   "source": []
  },
  {
   "cell_type": "code",
   "execution_count": null,
   "id": "0b7e305c",
   "metadata": {},
   "outputs": [],
   "source": []
  }
 ],
 "metadata": {
  "kernelspec": {
   "display_name": "Python 3 (ipykernel)",
   "language": "python",
   "name": "python3"
  },
  "language_info": {
   "codemirror_mode": {
    "name": "ipython",
    "version": 3
   },
   "file_extension": ".py",
   "mimetype": "text/x-python",
   "name": "python",
   "nbconvert_exporter": "python",
   "pygments_lexer": "ipython3",
   "version": "3.9.6"
  }
 },
 "nbformat": 4,
 "nbformat_minor": 5
}
