{
 "cells": [
  {
   "cell_type": "code",
   "execution_count": 45,
   "id": "2af7746d",
   "metadata": {},
   "outputs": [],
   "source": [
    "import logging\n",
    "import threading\n",
    "import time"
   ]
  },
  {
   "cell_type": "code",
   "execution_count": 46,
   "id": "55eae016",
   "metadata": {},
   "outputs": [],
   "source": [
    "def thread_function(name, secondary_id):\n",
    "    logging.info(f'Thread %s:%s is starting' % (name, secondary_id))\n",
    "    time.sleep(2)\n",
    "    logging.info(f'Thread %s:%s is ending' % (name, secondary_id))"
   ]
  },
  {
   "cell_type": "code",
   "execution_count": 47,
   "id": "e731ee16",
   "metadata": {},
   "outputs": [],
   "source": [
    "format = \"%(asctime)s: %(message)s\"\n",
    "logging.basicConfig(format=format, level=logging.INFO, datefmt=\"%H:%M:%S\")"
   ]
  },
  {
   "cell_type": "code",
   "execution_count": 58,
   "id": "9e23d270",
   "metadata": {},
   "outputs": [],
   "source": [
    "def parent_method():\n",
    "    logging.info(\"Main    : before creating thread\")\n",
    "#     x = threading.Thread(target=thread_function, args=('one', 1), daemon=True)\n",
    "    x = threading.Thread(target=thread_function, args=('one', 1))\n",
    "    logging.info(\"Main    : before running thread\")\n",
    "    x.start()\n",
    "    logging.info(\"Main    : wait for the thread to finish\")\n",
    "#     x.join()\n",
    "    logging.info(\"Main    : all done\")\n",
    "    \n",
    "# Note that daemon setting won't work in ipython. If I had used\n",
    "# __name__ == '__main__' and then invoked the script, the use of daemon setting can be demo'ed"
   ]
  },
  {
   "cell_type": "code",
   "execution_count": 60,
   "id": "415e3f3c",
   "metadata": {},
   "outputs": [
    {
     "name": "stderr",
     "output_type": "stream",
     "text": [
      "18:35:14: Main    : before creating thread\n",
      "18:35:14: Main    : before running thread\n",
      "18:35:14: Thread one:1 is starting\n",
      "18:35:14: Main    : wait for the thread to finish\n",
      "18:35:16: Thread one:1 is ending\n",
      "18:35:16: Main    : all done\n"
     ]
    }
   ],
   "source": [
    "parent_method()"
   ]
  },
  {
   "cell_type": "code",
   "execution_count": 123,
   "id": "6b9f3f07",
   "metadata": {},
   "outputs": [
    {
     "name": "stderr",
     "output_type": "stream",
     "text": [
      "10:00:32: Main    : create and start thread 0.\n",
      "10:00:32: Thread 0: starting\n",
      "10:00:32: Main    : create and start thread 1.\n",
      "10:00:32: Thread 1: starting\n",
      "10:00:32: Main    : create and start thread 2.\n",
      "10:00:32: Thread 2: starting\n",
      "10:00:32: Main    : before joining thread 0.\n",
      "10:00:34: Thread 0: finishing\n",
      "10:00:34: Main    : thread 0 done\n",
      "10:00:34: Main    : before joining thread 1.\n",
      "10:00:34: Thread 1: finishing\n",
      "10:00:34: Main    : thread 1 done\n",
      "10:00:34: Main    : before joining thread 2.\n",
      "10:00:34: Thread 2: finishing\n",
      "10:00:34: Main    : thread 2 done\n"
     ]
    }
   ],
   "source": [
    "import logging\n",
    "import threading\n",
    "import time\n",
    "\n",
    "def thread_function(name):\n",
    "    logging.info(\"Thread %s: starting\", name)\n",
    "    time.sleep(2)\n",
    "    logging.info(\"Thread %s: finishing\", name)\n",
    "\n",
    "format = \"%(asctime)s: %(message)s\"\n",
    "logging.basicConfig(format=format, level=logging.INFO,\n",
    "                    datefmt=\"%H:%M:%S\")\n",
    "\n",
    "threads = list()\n",
    "for index in range(3):\n",
    "    logging.info(\"Main    : create and start thread %d.\", index)\n",
    "    x = threading.Thread(target=thread_function, args=(index,))\n",
    "    threads.append(x)\n",
    "    x.start()\n",
    "\n",
    "for index, thread in enumerate(threads):\n",
    "    logging.info(\"Main    : before joining thread %d.\", index)\n",
    "    thread.join()\n",
    "    logging.info(\"Main    : thread %d done\", index)"
   ]
  },
  {
   "cell_type": "code",
   "execution_count": 124,
   "id": "ccd41eaa",
   "metadata": {},
   "outputs": [
    {
     "name": "stderr",
     "output_type": "stream",
     "text": [
      "10:00:38: Thread 0: starting\n",
      "10:00:38: Thread 1: starting\n",
      "10:00:38: Thread 2: starting\n",
      "10:00:40: Thread 0: finishing\n",
      "10:00:40: Thread 2: finishing\n",
      "10:00:40: Thread 1: finishing\n"
     ]
    }
   ],
   "source": [
    "# Using a thread pool executor\n",
    "import concurrent.futures\n",
    "\n",
    "# [rest of code]\n",
    "\n",
    "format = \"%(asctime)s: %(message)s\"\n",
    "logging.basicConfig(format=format, level=logging.INFO,\n",
    "                    datefmt=\"%H:%M:%S\")\n",
    "\n",
    "with concurrent.futures.ThreadPoolExecutor(max_workers=3) as executor:\n",
    "    executor.map(thread_function, range(3))"
   ]
  },
  {
   "cell_type": "code",
   "execution_count": 151,
   "id": "8a0e9eda",
   "metadata": {},
   "outputs": [],
   "source": [
    "# class FakeDatabase:\n",
    "#     def __init__(self):\n",
    "#         self.value = 0\n",
    "\n",
    "#     def update(self, name):\n",
    "#         logging.info(\"Thread %s: starting update\", name)\n",
    "#         local_copy = self.value\n",
    "#         local_copy += 1\n",
    "#         time.sleep(0.1)\n",
    "#         self.value = local_copy\n",
    "#         logging.info(\"Thread %s: finishing update\", name)"
   ]
  },
  {
   "cell_type": "code",
   "execution_count": 153,
   "id": "e1d547db",
   "metadata": {},
   "outputs": [],
   "source": [
    "class FakeDatabase:\n",
    "    def __init__(self):\n",
    "        self.value = 0\n",
    "        self._lock = threading.Lock()\n",
    "\n",
    "    def update(self, name):\n",
    "        with self._lock:\n",
    "            logging.info(\"Thread %s: starting update\", name)\n",
    "            local_copy = self.value\n",
    "            local_copy += 1\n",
    "            time.sleep(0.1)\n",
    "            self.value = local_copy\n",
    "            logging.info(\"Thread %s: finishing update\", name)"
   ]
  },
  {
   "cell_type": "code",
   "execution_count": 154,
   "id": "7cac9175",
   "metadata": {},
   "outputs": [
    {
     "name": "stderr",
     "output_type": "stream",
     "text": [
      "10:44:44: Testing update. Starting value is 0.\n",
      "10:44:44: Thread 0: starting update\n",
      "10:44:44: Thread 0: finishing update\n",
      "10:44:44: Thread 1: starting update\n",
      "10:44:45: Thread 1: finishing update\n",
      "10:44:45: Testing update. Ending value is 2.\n"
     ]
    }
   ],
   "source": [
    "format = \"%(asctime)s: %(message)s\"\n",
    "logging.basicConfig(format=format, level=logging.INFO,\n",
    "                    datefmt=\"%H:%M:%S\")\n",
    "\n",
    "database = FakeDatabase()\n",
    "logging.info(\"Testing update. Starting value is %d.\", database.value)\n",
    "with concurrent.futures.ThreadPoolExecutor(max_workers=2) as executor:\n",
    "    for index in range(2):\n",
    "        executor.submit(database.update, index)\n",
    "logging.info(\"Testing update. Ending value is %d.\", database.value)"
   ]
  },
  {
   "cell_type": "code",
   "execution_count": 156,
   "id": "fe5f39df",
   "metadata": {},
   "outputs": [
    {
     "name": "stdout",
     "output_type": "stream",
     "text": [
      "before first acquire\n",
      "before second acquire\n",
      "acquired lock twice\n"
     ]
    }
   ],
   "source": [
    "import threading\n",
    "\n",
    "l = threading.RLock()\n",
    "print(\"before first acquire\")\n",
    "l.acquire()\n",
    "print(\"before second acquire\")\n",
    "l.acquire()\n",
    "print(\"acquired lock twice\")\n",
    "l.release()\n",
    "l.release()"
   ]
  },
  {
   "cell_type": "code",
   "execution_count": 183,
   "id": "bccb7847",
   "metadata": {},
   "outputs": [],
   "source": [
    "import random\n",
    "\n",
    "SENTINEL = 'SENTINEL'\n",
    "\n",
    "def producer(pipeline):\n",
    "    for iteration in range(10):\n",
    "        message = random.randint(1,100)\n",
    "        print(\"Producer generating message {}\".format(message))\n",
    "        pipeline.set_message(message, \"Producer\")\n",
    "        print(\"Producer sent message {}\".format(message))\n",
    "        \n",
    "    pipeline.set_message(SENTINEL, \"Producer\")"
   ]
  },
  {
   "cell_type": "code",
   "execution_count": 184,
   "id": "fea5ac2b",
   "metadata": {},
   "outputs": [],
   "source": [
    "def consumer(pipeline):\n",
    "    message = None\n",
    "    while message is not SENTINEL:\n",
    "        message = pipeline.get_message(\"Consumer\")        \n",
    "        print(\"Consumer received message {}\".format(message))"
   ]
  },
  {
   "cell_type": "code",
   "execution_count": 185,
   "id": "0c975417",
   "metadata": {},
   "outputs": [],
   "source": [
    "class Pipeline:\n",
    "    def __init__(self):\n",
    "        self.message = None\n",
    "        self.producer_lock = threading.Lock()\n",
    "        self.consumer_lock = threading.Lock()\n",
    "        self.consumer_lock.acquire()\n",
    "        \n",
    "    def set_message(self, message, agent):\n",
    "        self.producer_lock.acquire()\n",
    "        self.message = message\n",
    "        self.consumer_lock.release()\n",
    "        \n",
    "    def get_message(self, agent):\n",
    "        self.consumer_lock.acquire()\n",
    "        message = self.message\n",
    "        self.producer_lock.release()\n",
    "        return message"
   ]
  },
  {
   "cell_type": "code",
   "execution_count": 186,
   "id": "7f06a25d",
   "metadata": {},
   "outputs": [
    {
     "name": "stdout",
     "output_type": "stream",
     "text": [
      "Producer generating message 95\n",
      "Producer sent message 95\n",
      "Producer generating message 64\n",
      "Consumer received message 95\n",
      "Producer sent message 64Consumer received message 64\n",
      "Producer generating message 64\n",
      "Producer sent message 64\n",
      "Producer generating message 73\n",
      "\n",
      "Consumer received message 64\n",
      "Producer sent message 73\n",
      "Producer generating message 29\n",
      "Consumer received message 73\n",
      "Producer sent message 29Consumer received message 29\n",
      "\n",
      "Producer generating message 2\n",
      "Producer sent message 2\n",
      "Consumer received message 2Producer generating message 84\n",
      "Producer sent message 84\n",
      "Producer generating message 31\n",
      "\n",
      "Consumer received message 84\n",
      "Producer sent message 31Consumer received message 31\n",
      "\n",
      "Producer generating message 7\n",
      "Producer sent message 7\n",
      "Producer generating message 67\n",
      "Consumer received message 7Producer sent message 67\n",
      "\n",
      "Consumer received message 67\n",
      "Consumer received message SENTINEL\n"
     ]
    }
   ],
   "source": [
    "if __name__ == \"__main__\":\n",
    "    pipeline = Pipeline()\n",
    "    with concurrent.futures.ThreadPoolExecutor(max_workers=2) as executor:\n",
    "        executor.submit(producer, pipeline)\n",
    "        executor.submit(consumer, pipeline)"
   ]
  },
  {
   "cell_type": "code",
   "execution_count": null,
   "id": "4c6a895b",
   "metadata": {},
   "outputs": [],
   "source": []
  }
 ],
 "metadata": {
  "kernelspec": {
   "display_name": "Python 3 (ipykernel)",
   "language": "python",
   "name": "python3"
  },
  "language_info": {
   "codemirror_mode": {
    "name": "ipython",
    "version": 3
   },
   "file_extension": ".py",
   "mimetype": "text/x-python",
   "name": "python",
   "nbconvert_exporter": "python",
   "pygments_lexer": "ipython3",
   "version": "3.9.6"
  }
 },
 "nbformat": 4,
 "nbformat_minor": 5
}
