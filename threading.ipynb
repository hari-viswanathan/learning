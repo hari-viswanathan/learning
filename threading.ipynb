{
 "cells": [
  {
   "cell_type": "code",
   "execution_count": 45,
   "id": "96dd0e49",
   "metadata": {},
   "outputs": [],
   "source": [
    "import logging\n",
    "import threading\n",
    "import time"
   ]
  },
  {
   "cell_type": "code",
   "execution_count": 46,
   "id": "d1a5f426",
   "metadata": {},
   "outputs": [],
   "source": [
    "def thread_function(name, secondary_id):\n",
    "    logging.info(f'Thread %s:%s is starting' % (name, secondary_id))\n",
    "    time.sleep(2)\n",
    "    logging.info(f'Thread %s:%s is ending' % (name, secondary_id))"
   ]
  },
  {
   "cell_type": "code",
   "execution_count": 47,
   "id": "0e3a3dbb",
   "metadata": {},
   "outputs": [],
   "source": [
    "format = \"%(asctime)s: %(message)s\"\n",
    "logging.basicConfig(format=format, level=logging.INFO, datefmt=\"%H:%M:%S\")"
   ]
  },
  {
   "cell_type": "code",
   "execution_count": 58,
   "id": "81813c84",
   "metadata": {},
   "outputs": [],
   "source": [
    "def parent_method():\n",
    "    logging.info(\"Main    : before creating thread\")\n",
    "#     x = threading.Thread(target=thread_function, args=('one', 1), daemon=True)\n",
    "    x = threading.Thread(target=thread_function, args=('one', 1))\n",
    "    logging.info(\"Main    : before running thread\")\n",
    "    x.start()\n",
    "    logging.info(\"Main    : wait for the thread to finish\")\n",
    "#     x.join()\n",
    "    logging.info(\"Main    : all done\")\n",
    "    \n",
    "# Note that daemon setting won't work in ipython. If I had used\n",
    "# __name__ == '__main__' and then invoked the script, the use of daemon setting can be demo'ed"
   ]
  },
  {
   "cell_type": "code",
   "execution_count": 60,
   "id": "aaecf647",
   "metadata": {},
   "outputs": [
    {
     "name": "stderr",
     "output_type": "stream",
     "text": [
      "18:35:14: Main    : before creating thread\n",
      "18:35:14: Main    : before running thread\n",
      "18:35:14: Thread one:1 is starting\n",
      "18:35:14: Main    : wait for the thread to finish\n",
      "18:35:16: Thread one:1 is ending\n",
      "18:35:16: Main    : all done\n"
     ]
    }
   ],
   "source": [
    "parent_method()"
   ]
  },
  {
   "cell_type": "code",
   "execution_count": null,
   "id": "85a7e1ce",
   "metadata": {},
   "outputs": [],
   "source": []
  }
 ],
 "metadata": {
  "kernelspec": {
   "display_name": "Python 3 (ipykernel)",
   "language": "python",
   "name": "python3"
  },
  "language_info": {
   "codemirror_mode": {
    "name": "ipython",
    "version": 3
   },
   "file_extension": ".py",
   "mimetype": "text/x-python",
   "name": "python",
   "nbconvert_exporter": "python",
   "pygments_lexer": "ipython3",
   "version": "3.9.6"
  }
 },
 "nbformat": 4,
 "nbformat_minor": 5
}
