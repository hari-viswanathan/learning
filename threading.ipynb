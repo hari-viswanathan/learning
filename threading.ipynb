{
 "cells": [
  {
   "cell_type": "code",
   "execution_count": 45,
   "id": "07fc3a68",
   "metadata": {},
   "outputs": [],
   "source": [
    "import logging\n",
    "import threading\n",
    "import time"
   ]
  },
  {
   "cell_type": "code",
   "execution_count": 46,
   "id": "c40d9b78",
   "metadata": {},
   "outputs": [],
   "source": [
    "def thread_function(name, secondary_id):\n",
    "    logging.info(f'Thread %s:%s is starting' % (name, secondary_id))\n",
    "    time.sleep(2)\n",
    "    logging.info(f'Thread %s:%s is ending' % (name, secondary_id))"
   ]
  },
  {
   "cell_type": "code",
   "execution_count": 47,
   "id": "d8992e9e",
   "metadata": {},
   "outputs": [],
   "source": [
    "format = \"%(asctime)s: %(message)s\"\n",
    "logging.basicConfig(format=format, level=logging.INFO, datefmt=\"%H:%M:%S\")"
   ]
  },
  {
   "cell_type": "code",
   "execution_count": 58,
   "id": "121b05b6",
   "metadata": {},
   "outputs": [],
   "source": [
    "def parent_method():\n",
    "    logging.info(\"Main    : before creating thread\")\n",
    "#     x = threading.Thread(target=thread_function, args=('one', 1), daemon=True)\n",
    "    x = threading.Thread(target=thread_function, args=('one', 1))\n",
    "    logging.info(\"Main    : before running thread\")\n",
    "    x.start()\n",
    "    logging.info(\"Main    : wait for the thread to finish\")\n",
    "#     x.join()\n",
    "    logging.info(\"Main    : all done\")\n",
    "    \n",
    "# Note that daemon setting won't work in ipython. If I had used\n",
    "# __name__ == '__main__' and then invoked the script, the use of daemon setting can be demo'ed"
   ]
  },
  {
   "cell_type": "code",
   "execution_count": 60,
   "id": "bbb3956a",
   "metadata": {},
   "outputs": [
    {
     "name": "stderr",
     "output_type": "stream",
     "text": [
      "18:35:14: Main    : before creating thread\n",
      "18:35:14: Main    : before running thread\n",
      "18:35:14: Thread one:1 is starting\n",
      "18:35:14: Main    : wait for the thread to finish\n",
      "18:35:16: Thread one:1 is ending\n",
      "18:35:16: Main    : all done\n"
     ]
    }
   ],
   "source": [
    "parent_method()"
   ]
  },
  {
   "cell_type": "code",
   "execution_count": 86,
   "id": "9a80a748",
   "metadata": {},
   "outputs": [
    {
     "name": "stderr",
     "output_type": "stream",
     "text": [
      "09:50:04: Main    : create and start thread 0.\n",
      "09:50:04: Thread 0: starting\n",
      "09:50:04: Main    : create and start thread 1.\n",
      "09:50:04: Thread 1: starting\n",
      "09:50:04: Main    : create and start thread 2.\n",
      "09:50:04: Thread 2: starting\n",
      "09:50:04: Main    : before joining thread 0.\n",
      "09:50:06: Thread 0: finishing\n",
      "09:50:06: Thread 1: finishing\n",
      "09:50:06: Main    : thread 0 done\n",
      "09:50:06: Main    : before joining thread 1.\n",
      "09:50:06: Thread 2: finishing\n",
      "09:50:06: Main    : thread 1 done\n",
      "09:50:06: Main    : before joining thread 2.\n",
      "09:50:06: Main    : thread 2 done\n"
     ]
    }
   ],
   "source": [
    "import logging\n",
    "import threading\n",
    "import time\n",
    "\n",
    "def thread_function(name):\n",
    "    logging.info(\"Thread %s: starting\", name)\n",
    "    time.sleep(2)\n",
    "    logging.info(\"Thread %s: finishing\", name)\n",
    "\n",
    "if __name__ == \"__main__\":\n",
    "    format = \"%(asctime)s: %(message)s\"\n",
    "    logging.basicConfig(format=format, level=logging.INFO,\n",
    "                        datefmt=\"%H:%M:%S\")\n",
    "\n",
    "    threads = list()\n",
    "    for index in range(3):\n",
    "        logging.info(\"Main    : create and start thread %d.\", index)\n",
    "        x = threading.Thread(target=thread_function, args=(index,))\n",
    "        threads.append(x)\n",
    "        x.start()\n",
    "\n",
    "    for index, thread in enumerate(threads):\n",
    "        logging.info(\"Main    : before joining thread %d.\", index)\n",
    "        thread.join()\n",
    "        logging.info(\"Main    : thread %d done\", index)"
   ]
  },
  {
   "cell_type": "code",
   "execution_count": null,
   "id": "a40b1ca9",
   "metadata": {},
   "outputs": [
    {
     "name": "stderr",
     "output_type": "stream",
     "text": [
      "09:54:24: Thread 0: starting\n",
      "09:54:24: Thread 1: starting\n",
      "09:54:24: Thread 2: starting\n"
     ]
    }
   ],
   "source": [
    "# Using a thread pool executor\n",
    "import concurrent.futures\n",
    "\n",
    "# [rest of code]\n",
    "\n",
    "if __name__ == \"__main__\":\n",
    "    format = \"%(asctime)s: %(message)s\"\n",
    "    logging.basicConfig(format=format, level=logging.INFO,\n",
    "                        datefmt=\"%H:%M:%S\")\n",
    "\n",
    "    with concurrent.futures.ThreadPoolExecutor(max_workers=3) as executor:\n",
    "        executor.map(thread_function, range(3))"
   ]
  },
  {
   "cell_type": "code",
   "execution_count": null,
   "id": "96e4b1a0",
   "metadata": {},
   "outputs": [],
   "source": []
  }
 ],
 "metadata": {
  "kernelspec": {
   "display_name": "Python 3 (ipykernel)",
   "language": "python",
   "name": "python3"
  },
  "language_info": {
   "codemirror_mode": {
    "name": "ipython",
    "version": 3
   },
   "file_extension": ".py",
   "mimetype": "text/x-python",
   "name": "python",
   "nbconvert_exporter": "python",
   "pygments_lexer": "ipython3",
   "version": "3.9.6"
  }
 },
 "nbformat": 4,
 "nbformat_minor": 5
}
